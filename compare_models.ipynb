{
 "cells": [
  {
   "cell_type": "code",
   "execution_count": 10,
   "metadata": {},
   "outputs": [],
   "source": [
    "import json\n",
    "\n",
    "import numpy as np\n",
    "import matplotlib.pyplot as plt\n",
    "import torch\n",
    "\n",
    "from src.game import Game\n",
    "from src.models.patch_mlp import PatchMLPModel\n",
    "from src.models.unet import UnetModel\n",
    "from src.models.conv import ConvModel\n",
    "from src.player import *"
   ]
  },
  {
   "cell_type": "code",
   "execution_count": 11,
   "metadata": {},
   "outputs": [
    {
     "name": "stdout",
     "output_type": "stream",
     "text": [
      "cpu\n"
     ]
    }
   ],
   "source": [
    "\n",
    "device = (\n",
    "    \"cuda\"\n",
    "    if torch.cuda.is_available()\n",
    "    else \"mps\"\n",
    "    if torch.backends.mps.is_available()\n",
    "    else \"cpu\"\n",
    ")\n",
    "print(device)"
   ]
  },
  {
   "cell_type": "code",
   "execution_count": 12,
   "metadata": {},
   "outputs": [],
   "source": [
    "result_file = 'weights/scores.json'\n",
    "r, c, m, n = (16, 30, 99, 100)"
   ]
  },
  {
   "cell_type": "code",
   "execution_count": 13,
   "metadata": {},
   "outputs": [],
   "source": [
    "models: list[tuple[MinesweeperModel, str]] = [\n",
    "    (ConvModel, 'weights/conv_3x3_64.pth'),\n",
    "    (ConvModel, 'weights/conv_3x3_128.pth'),\n",
    "    (ConvModel, 'weights/conv_5x5_64.pth'),\n",
    "    (ConvModel, 'weights/conv_5x5_128.pth'),\n",
    "    (ConvModel, 'weights/conv_7x7_64.pth'),\n",
    "    (PatchMLPModel, 'weights/patch_mlp_7x7_512.pth'),\n",
    "    (PatchMLPModel, 'weights/patch_mlp_7x7_1024.pth'),\n",
    "    (UnetModel, 'weights/unet_16x30_64.pth'),\n",
    "]"
   ]
  },
  {
   "cell_type": "code",
   "execution_count": 14,
   "metadata": {},
   "outputs": [],
   "source": [
    "games = Game(r, c, m, n)\n",
    "zeros = games.open_zero()\n",
    "win_rates = {}\n",
    "max_win_rate = 0"
   ]
  },
  {
   "cell_type": "code",
   "execution_count": 15,
   "metadata": {},
   "outputs": [
    {
     "name": "stdout",
     "output_type": "stream",
     "text": [
      "weights/conv_3x3_64.pth win rate: 0.52\n",
      "weights/conv_3x3_128.pth win rate: 0.43\n",
      "weights/conv_5x5_64.pth win rate: 0.44\n",
      "weights/conv_5x5_128.pth win rate: 0.4\n",
      "weights/conv_7x7_64.pth win rate: 0.43\n",
      "weights/patch_mlp_7x7_512.pth win rate: 0.41\n",
      "weights/patch_mlp_7x7_1024.pth win rate: 0.35\n",
      "weights/unet_16x30_64.pth win rate: 0.39\n"
     ]
    }
   ],
   "source": [
    "for model_class, path in models:\n",
    "    model = model_class.load(path, device)\n",
    "    player = ThresholdPlayer(model)\n",
    "    games.reset()\n",
    "    games.move(zeros)\n",
    "    player.play(games)\n",
    "    win_rate = games.win_rate()\n",
    "    win_rates[path] = win_rate\n",
    "    print(f'{path} win rate: {win_rate}')\n",
    "    if win_rate > max_win_rate:\n",
    "        max_win_rate = win_rate\n",
    "        best_model = model"
   ]
  },
  {
   "cell_type": "code",
   "execution_count": 16,
   "metadata": {},
   "outputs": [],
   "source": [
    "with open(result_file, 'w+') as fp:\n",
    "    json.dump({'n': n, 'winRates': win_rates}, fp, indent=4)"
   ]
  },
  {
   "cell_type": "code",
   "execution_count": 17,
   "metadata": {},
   "outputs": [
    {
     "name": "stdout",
     "output_type": "stream",
     "text": [
      "(0.05, 0.95) win rate: 0.41\n",
      "(0.02, 0.98) win rate: 0.49\n",
      "(0.015, 0.985) win rate: 0.52\n",
      "(0.01, 0.99) win rate: 0.52\n"
     ]
    }
   ],
   "source": [
    "for thresholds in [(0.05, 0.95), (0.02, 0.98), (0.015, 0.985), (0.01, 0.99)]:\n",
    "    player = ThresholdPlayer(best_model, *thresholds)\n",
    "    games.reset()\n",
    "    games.move(zeros)\n",
    "    player.play(games)\n",
    "    win_rate = games.win_rate()\n",
    "    print(f'{thresholds} win rate: {win_rate}')"
   ]
  }
 ],
 "metadata": {
  "kernelspec": {
   "display_name": "torch",
   "language": "python",
   "name": "python3"
  },
  "language_info": {
   "codemirror_mode": {
    "name": "ipython",
    "version": 3
   },
   "file_extension": ".py",
   "mimetype": "text/x-python",
   "name": "python",
   "nbconvert_exporter": "python",
   "pygments_lexer": "ipython3",
   "version": "3.12.6"
  }
 },
 "nbformat": 4,
 "nbformat_minor": 2
}
