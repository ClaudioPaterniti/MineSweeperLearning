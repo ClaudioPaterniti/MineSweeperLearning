{
 "cells": [
  {
   "cell_type": "code",
   "execution_count": 1,
   "metadata": {
    "id": "ULrmC-Vhja2x"
   },
   "outputs": [],
   "source": [
    "# ! git clone https://github.com/ClaudioPaterniti/MinesweeperLearning.git"
   ]
  },
  {
   "cell_type": "code",
   "execution_count": null,
   "metadata": {
    "id": "WLXhaAvFjeeQ"
   },
   "outputs": [],
   "source": [
    "# import os\n",
    "# os.chdir('/content/MinesweeperLearning')"
   ]
  },
  {
   "cell_type": "code",
   "execution_count": 3,
   "metadata": {
    "id": "yPqRxmmOjVZm"
   },
   "outputs": [],
   "source": [
    "import json\n",
    "\n",
    "import numpy as np\n",
    "import matplotlib.pyplot as plt\n",
    "import torch\n",
    "\n",
    "from src.game import Game\n",
    "from src.models.patch_mlp import PatchMLPModel\n",
    "from src.models.unet import UnetModel\n",
    "from src.models.conv import ConvModel\n",
    "from src.player import *"
   ]
  },
  {
   "cell_type": "code",
   "execution_count": 4,
   "metadata": {
    "colab": {
     "base_uri": "https://localhost:8080/"
    },
    "id": "ZJdSRfMxjVZn",
    "outputId": "d6adf453-7121-4fe9-8f8d-fa2fbb664d52"
   },
   "outputs": [
    {
     "name": "stdout",
     "output_type": "stream",
     "text": [
      "cuda\n"
     ]
    }
   ],
   "source": [
    "\n",
    "device = (\n",
    "    \"cuda\"\n",
    "    if torch.cuda.is_available()\n",
    "    else \"mps\"\n",
    "    if torch.backends.mps.is_available()\n",
    "    else \"cpu\"\n",
    ")\n",
    "print(device)"
   ]
  },
  {
   "cell_type": "code",
   "execution_count": 5,
   "metadata": {
    "id": "TBmQR3iXjVZn"
   },
   "outputs": [],
   "source": [
    "result_file = 'weights/scores.json'\n",
    "r, c, m, n = (16, 30, 99, 50_000)"
   ]
  },
  {
   "cell_type": "code",
   "execution_count": 6,
   "metadata": {
    "id": "fruQ3CRmjVZn"
   },
   "outputs": [],
   "source": [
    "models: list[tuple[MinesweeperModel, str]] = [\n",
    "    (ConvModel, 'weights/conv_3x3_64.pth'),\n",
    "    (ConvModel, 'weights/conv_3x3_128.pth'),\n",
    "    (ConvModel, 'weights/conv_5x5_64.pth'),\n",
    "    (ConvModel, 'weights/conv_5x5_128.pth'),\n",
    "    (ConvModel, 'weights/conv_7x7_64.pth'),\n",
    "    (PatchMLPModel, 'weights/patch_mlp_7x7_512.pth'),\n",
    "    (PatchMLPModel, 'weights/patch_mlp_7x7_1024.pth'),\n",
    "    (UnetModel, 'weights/unet_16x30_64.pth'),\n",
    "]"
   ]
  },
  {
   "cell_type": "code",
   "execution_count": 7,
   "metadata": {
    "id": "_uaxSpW3jVZo"
   },
   "outputs": [],
   "source": [
    "games = Game(r, c, m, n)\n",
    "zeros = games.open_zero()\n",
    "win_rates = {}\n",
    "max_win_rate = 0"
   ]
  },
  {
   "cell_type": "code",
   "execution_count": 8,
   "metadata": {
    "colab": {
     "base_uri": "https://localhost:8080/"
    },
    "id": "jUhdyLWFjVZo",
    "outputId": "f8533d95-73e7-4893-e906-e5d087190389"
   },
   "outputs": [
    {
     "name": "stdout",
     "output_type": "stream",
     "text": [
      "weights/conv_3x3_64.pth win rate: 0.44852\n",
      "weights/conv_3x3_128.pth win rate: 0.4426\n",
      "weights/conv_5x5_64.pth win rate: 0.43574\n",
      "weights/conv_5x5_128.pth win rate: 0.41632\n",
      "weights/conv_7x7_64.pth win rate: 0.43528\n",
      "weights/patch_mlp_7x7_512.pth win rate: 0.30264\n",
      "weights/patch_mlp_7x7_1024.pth win rate: 0.31012\n",
      "weights/unet_16x30_64.pth win rate: 0.40506\n"
     ]
    }
   ],
   "source": [
    "for model_class, path in models:\n",
    "    model = model_class.load(path, device)\n",
    "    player = ThresholdPlayer(model)\n",
    "    games.reset()\n",
    "    games.move(zeros)\n",
    "    player.play(games)\n",
    "    win_rate = games.win_rate()\n",
    "    win_rates[path] = win_rate\n",
    "    print(f'{path} win rate: {win_rate}')\n",
    "    if win_rate > max_win_rate:\n",
    "        max_win_rate = win_rate\n",
    "        best_model = model"
   ]
  },
  {
   "cell_type": "code",
   "execution_count": 9,
   "metadata": {
    "id": "_Om-dn3SjVZo"
   },
   "outputs": [],
   "source": [
    "with open(result_file, 'w+') as fp:\n",
    "    json.dump({'n': n, 'winRates': win_rates}, fp, indent=4)"
   ]
  },
  {
   "cell_type": "code",
   "execution_count": 10,
   "metadata": {
    "colab": {
     "base_uri": "https://localhost:8080/"
    },
    "id": "oz71NtkEjVZp",
    "outputId": "88f80a69-2d92-4bbf-d5c1-8cd0495aa099"
   },
   "outputs": [
    {
     "name": "stdout",
     "output_type": "stream",
     "text": [
      "(0.05, 0.95) win rate: 0.3831\n",
      "(0.02, 0.98) win rate: 0.43894\n",
      "(0.015, 0.985) win rate: 0.44418\n",
      "(0.01, 0.99) win rate: 0.44852\n"
     ]
    }
   ],
   "source": [
    "for thresholds in [(0.05, 0.95), (0.02, 0.98), (0.015, 0.985), (0.01, 0.99)]:\n",
    "    player = ThresholdPlayer(best_model, *thresholds)\n",
    "    games.reset()\n",
    "    games.move(zeros)\n",
    "    player.play(games)\n",
    "    win_rate = games.win_rate()\n",
    "    print(f'{thresholds} win rate: {win_rate}')"
   ]
  }
 ],
 "metadata": {
  "accelerator": "GPU",
  "colab": {
   "gpuType": "L4",
   "provenance": []
  },
  "kernelspec": {
   "display_name": "Python 3",
   "name": "python3"
  },
  "language_info": {
   "codemirror_mode": {
    "name": "ipython",
    "version": 3
   },
   "file_extension": ".py",
   "mimetype": "text/x-python",
   "name": "python",
   "nbconvert_exporter": "python",
   "pygments_lexer": "ipython3",
   "version": "3.12.6"
  }
 },
 "nbformat": 4,
 "nbformat_minor": 0
}
