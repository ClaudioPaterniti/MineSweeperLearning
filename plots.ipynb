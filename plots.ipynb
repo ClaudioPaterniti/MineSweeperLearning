{
 "cells": [
  {
   "cell_type": "code",
   "execution_count": 1,
   "metadata": {},
   "outputs": [],
   "source": [
    "import numpy as np\n",
    "import matplotlib.pyplot as plt\n",
    "\n",
    "import game\n",
    "import training as train\n",
    "import net"
   ]
  },
  {
   "cell_type": "code",
   "execution_count": 2,
   "metadata": {},
   "outputs": [],
   "source": [
    "game_args = {'rows': 9,\n",
    "            'columns': 9,\n",
    "            'mines': 10}\n",
    "data, _ = train.gen_base_dataset(2, game_args)\n",
    "\n",
    "agent = net.Minesweeper_dense_net(81, (50,))\n",
    "agent.load('.\\model')\n",
    "\n",
    "pred = agent.model.predict(data)\n",
    "\n",
    "pred = pred[0].reshape(9,9)\n",
    "state = data[0, :81].reshape(9,9)"
   ]
  },
  {
   "cell_type": "code",
   "execution_count": 3,
   "metadata": {},
   "outputs": [
    {
     "data": {
      "image/png": "[encoded data removed]",
      "text/plain": [
       "<Figure size 360x360 with 1 Axes>"
      ]
     },
     "metadata": {},
     "output_type": "display_data"
    }
   ],
   "source": [
    "f, ax = plt.subplots(figsize=(5,5))\n",
    "ax.imshow(list(pred))\n",
    "ax.set_xticks([])\n",
    "ax.set_yticks([])\n",
    "for i in range(game_args['rows']):\n",
    "    for j in range(game_args['columns']):\n",
    "        if state[i,j]>=0:\n",
    "            text = ax.text(j, i, state[i, j], ha=\"center\", va=\"center\", color=\"w\")"
   ]
  },
  {
   "cell_type": "code",
   "execution_count": 17,
   "metadata": {},
   "outputs": [
    {
     "data": {
      "text/plain": [
       "array([[-1, -1, -1,  1,  0,  0,  1, -1, -1],\n",
       "       [-1, -1, -1,  1,  0,  0,  1, -1, -1],\n",
       "       [-1, -1, -1,  1,  0,  0,  1,  1,  1],\n",
       "       [-1, -1, -1,  1,  1,  1,  0,  0,  0],\n",
       "       [-1, -1, -1, -1, -1,  1,  0,  0,  0],\n",
       "       [-1, -1, -1, -1, -1,  2,  0,  0,  0],\n",
       "       [-1, -1, -1, -1, -1,  1,  0,  0,  0],\n",
       "       [-1, -1, -1, -1,  2,  1,  0,  0,  0],\n",
       "       [-1, -1, -1, -1,  1,  0,  0,  0,  0]])"
      ]
     },
     "execution_count": 17,
     "metadata": {},
     "output_type": "execute_result"
    }
   ],
   "source": [
    "state"
   ]
  },
  {
   "cell_type": "code",
   "execution_count": null,
   "metadata": {},
   "outputs": [],
   "source": []
  }
 ],
 "metadata": {
  "kernelspec": {
   "display_name": "Python 3",
   "language": "python",
   "name": "python3"
  },
  "language_info": {
   "codemirror_mode": {
    "name": "ipython",
    "version": 3
   },
   "file_extension": ".py",
   "mimetype": "text/x-python",
   "name": "python",
   "nbconvert_exporter": "python",
   "pygments_lexer": "ipython3",
   "version": "3.7.4"
  }
 },
 "nbformat": 4,
 "nbformat_minor": 2
}
