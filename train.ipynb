{
 "cells": [
  {
   "cell_type": "code",
   "execution_count": 1,
   "metadata": {
    "id": "8F9ymaFAVcdD"
   },
   "outputs": [],
   "source": [
    "# ! git clone https://github.com/ClaudioPaterniti/MinesweeperLearning.git"
   ]
  },
  {
   "cell_type": "code",
   "execution_count": 2,
   "metadata": {
    "colab": {
     "base_uri": "https://localhost:8080/"
    },
    "id": "FlBcfX6cFiof",
    "outputId": "60d83af2-07d5-418e-da72-b24d842f651d"
   },
   "outputs": [],
   "source": [
    "# !pip install ipython-autotime\n",
    "# %load_ext autotime"
   ]
  },
  {
   "cell_type": "code",
   "execution_count": 3,
   "metadata": {
    "colab": {
     "base_uri": "https://localhost:8080/"
    },
    "id": "vq8Ft_P5Vuo2",
    "outputId": "bbe03a23-6966-4713-92b9-a5c6dfdde2ad"
   },
   "outputs": [],
   "source": [
    "import os\n",
    "# os.chdir('/content/MinesweeperLearning')"
   ]
  },
  {
   "cell_type": "code",
   "execution_count": 4,
   "metadata": {
    "colab": {
     "base_uri": "https://localhost:8080/"
    },
    "id": "jOpl5fxmVK2g",
    "outputId": "76035711-34db-4c8e-9c7c-5f6f7ce557b7"
   },
   "outputs": [],
   "source": [
    "import torch\n",
    "import numpy as np\n",
    "\n",
    "import src.utils as utils\n",
    "\n",
    "from torch.utils.data import DataLoader\n",
    "\n",
    "from src.models.patch_mlp import MineSweeperDataset, PatchMLPModel, Game\n",
    "from src.models.unet import UnetModel\n",
    "from src.models.conv import ConvModel\n",
    "from src.player import Player, ThresholdPlayer"
   ]
  },
  {
   "cell_type": "code",
   "execution_count": 5,
   "metadata": {
    "colab": {
     "base_uri": "https://localhost:8080/"
    },
    "id": "6236riM2VK2h",
    "outputId": "e470b39c-e407-4d8b-a72f-4e5a8de16e32"
   },
   "outputs": [
    {
     "name": "stdout",
     "output_type": "stream",
     "text": [
      "cpu\n"
     ]
    }
   ],
   "source": [
    "device = (\n",
    "    \"cuda\"\n",
    "    if torch.cuda.is_available()\n",
    "    else \"mps\"\n",
    "    if torch.backends.mps.is_available()\n",
    "    else \"cpu\"\n",
    ")\n",
    "print(device)\n",
    "rng = np.random.default_rng()"
   ]
  },
  {
   "cell_type": "code",
   "execution_count": null,
   "metadata": {
    "colab": {
     "base_uri": "https://localhost:8080/"
    },
    "id": "DvEBDZHyqJwj",
    "outputId": "68287ca1-ec85-44c3-e8e0-f8f7cf4aa996"
   },
   "outputs": [],
   "source": [
    "data = utils.sample(np.load('data/dataset.npy'), 200_000)"
   ]
  },
  {
   "cell_type": "code",
   "execution_count": 7,
   "metadata": {},
   "outputs": [],
   "source": [
    "model_type = 'conv'"
   ]
  },
  {
   "cell_type": "code",
   "execution_count": null,
   "metadata": {
    "colab": {
     "base_uri": "https://localhost:8080/"
    },
    "id": "gojmCqYfmDh8",
    "outputId": "b7d91ef2-d4d2-4501-f64f-576b6ff9263d"
   },
   "outputs": [],
   "source": [
    "if model_type == 'patch_mlp':\n",
    "    patch_radius = 3\n",
    "    d = 2*patch_radius+1\n",
    "    layers= [2**i for i in range(10, 0, -1)]\n",
    "    name = f'patch_mlp_{d}x{d}_{layers[0]}'\n",
    "    print(name)\n",
    "\n",
    "    model = PatchMLPModel(\n",
    "        patch_radius,\n",
    "        layers,\n",
    "        device=device)\n",
    "    transform = model.transform\n",
    "    weights = None\n",
    "    dataset = MineSweeperDataset(data, transform, weights)"
   ]
  },
  {
   "cell_type": "code",
   "execution_count": null,
   "metadata": {},
   "outputs": [
    {
     "name": "stdout",
     "output_type": "stream",
     "text": [
      "conv_16x30_32\n"
     ]
    }
   ],
   "source": [
    "if model_type == 'conv':\n",
    "    r, c = (16, 30)\n",
    "    kernel_radius = 1\n",
    "    layers= [2**i for i in range(8, 0, -1)]\n",
    "    name = f'conv_{r}x{c}_{layers[0]}'\n",
    "    print(name)\n",
    "\n",
    "    model = ConvModel(\n",
    "        kernel_radius,\n",
    "        layers,\n",
    "        device=device)\n",
    "    transform = model.transform\n",
    "    weights = ((data == 9) & (data == -1)).view(np.int8)\n",
    "    dataset = MineSweeperDataset(data, transform, weights)"
   ]
  },
  {
   "cell_type": "code",
   "execution_count": null,
   "metadata": {},
   "outputs": [],
   "source": [
    "if model_type == 'unet':\n",
    "    r, c, m = (16, 30, 99)\n",
    "    decoder_shapes = [(128, 16, 30), (256, 8, 15), (512, 4, 7), (1024, 2, 3)]\n",
    "    name = f'unet_{r}x{c}_{decoder_shapes[0][0]}'\n",
    "    print(name)\n",
    "\n",
    "    model = UnetModel(\n",
    "        map_size=(r, c),\n",
    "        decoder_shapes=decoder_shapes,\n",
    "        device=device)\n",
    "    transform = model.transform\n",
    "    weights = ((data == 9) & (data == -1)).view(np.int8)\n",
    "    dataset = MineSweeperDataset(data, transform, weights)"
   ]
  },
  {
   "cell_type": "code",
   "execution_count": 11,
   "metadata": {
    "colab": {
     "base_uri": "https://localhost:8080/"
    },
    "id": "ZzFDddBwVK2i",
    "outputId": "25df4c00-ddb1-45c9-ba93-f71529591342"
   },
   "outputs": [],
   "source": [
    "batch_size = 128\n",
    "training_data, test_data = torch.utils.data.random_split(dataset, (0.95, 0.05))\n",
    "train_dataloader = DataLoader(training_data, batch_size, num_workers=4, pin_memory=True)\n",
    "test_dataloader = DataLoader(training_data, batch_size, num_workers=4, pin_memory=True)\n",
    "player = ThresholdPlayer(model, 0.01, 0.95)\n",
    "optimizer = torch.optim.Adam(model.model.parameters(), lr=0.001)"
   ]
  },
  {
   "cell_type": "code",
   "execution_count": 12,
   "metadata": {
    "colab": {
     "base_uri": "https://localhost:8080/"
    },
    "id": "Z9fyS9I01IfO",
    "outputId": "a1a399a0-752b-4a2e-b167-bb8fdf3ac935"
   },
   "outputs": [],
   "source": [
    "test_games = Game(n = 50)\n",
    "zeros = test_games.open_zero()"
   ]
  },
  {
   "cell_type": "code",
   "execution_count": 13,
   "metadata": {
    "colab": {
     "base_uri": "https://localhost:8080/"
    },
    "id": "p7AD38_XA0U5",
    "outputId": "2e8fb7c7-c0ec-4458-a1b5-44971d07ad33"
   },
   "outputs": [],
   "source": [
    "train_loss = []\n",
    "test_loss = []\n",
    "win_rate = []"
   ]
  },
  {
   "cell_type": "code",
   "execution_count": null,
   "metadata": {
    "colab": {
     "base_uri": "https://localhost:8080/"
    },
    "id": "EJX3QPFpVK2j",
    "outputId": "c454dff2-dd7f-4c66-bd3c-df1a0595db11"
   },
   "outputs": [
    {
     "name": "stdout",
     "output_type": "stream",
     "text": [
      "Epoch 1\n",
      "-------------------------------\n",
      "0.0\n"
     ]
    }
   ],
   "source": [
    "epochs = 10\n",
    "stop_if_no_max_after = -1\n",
    "max_win_rate, argmax_t = 0, 0\n",
    "for t in range(epochs):\n",
    "    print(f\"Epoch {t+1}\\n-------------------------------\")\n",
    "    train_loss.append(model.train(train_dataloader, optimizer))\n",
    "    player.play(test_games)\n",
    "    win_rate.append(test_games.win_rate())\n",
    "    print(win_rate[-1])\n",
    "    test_games.reset()\n",
    "    test_games.move(zeros)\n",
    "    test_loss.append(model.test(test_dataloader))\n",
    "    if stop_if_no_max_after > 0:\n",
    "      if win_rate[-1] > max_win_rate:\n",
    "        model.save(os.path.join('weights', name + '_max.pth'))\n",
    "        max_win_rate = win_rate[-1]\n",
    "      if win_rate[-1] > max_win_rate - 0.01:\n",
    "        argmax_t = t\n",
    "      elif t - argmax_t >= stop_if_no_max_after:\n",
    "          break"
   ]
  },
  {
   "cell_type": "code",
   "execution_count": 12,
   "metadata": {
    "colab": {
     "base_uri": "https://localhost:8080/",
     "height": 537
    },
    "id": "sEDg-Qj14Snk",
    "outputId": "93443ca9-f896-4053-a6da-82bbcb6a6afb"
   },
   "outputs": [
    {
     "data": {
      "image/png": "[encoded data removed]",
      "text/plain": [
       "<Figure size 640x480 with 2 Axes>"
      ]
     },
     "metadata": {},
     "output_type": "display_data"
    },
    {
     "name": "stdout",
     "output_type": "stream",
     "text": [
      "time: 343 ms (started: 2024-10-27 19:39:04 +00:00)\n"
     ]
    }
   ],
   "source": [
    "import matplotlib.pyplot as plt\n",
    "\n",
    "fig, ax1 = plt.subplots()\n",
    "ax1.set_xlabel('epoch')\n",
    "\n",
    "ax1.plot(train_loss, color='tab:red', label = 'train')\n",
    "ax1.plot(test_loss, color='tab:orange', label = 'test')\n",
    "\n",
    "ax2 = ax1.twinx()  # instantiate a second Axes that shares the same x-axis\n",
    "\n",
    "color = 'tab:blue'\n",
    "ax2.plot(win_rate, color=color, label = 'win rate')\n",
    "\n",
    "fig.legend(loc=\"upper right\")\n",
    "plt.show()"
   ]
  },
  {
   "cell_type": "code",
   "execution_count": 34,
   "metadata": {
    "colab": {
     "base_uri": "https://localhost:8080/"
    },
    "id": "AYlTMDEumDh9",
    "outputId": "b5bbd0bc-3a71-48dd-cd51-e9dae9d6e7b0"
   },
   "outputs": [
    {
     "name": "stdout",
     "output_type": "stream",
     "text": [
      "time: 101 ms (started: 2024-10-27 20:21:30 +00:00)\n"
     ]
    }
   ],
   "source": [
    "model.save(os.path.join('weights', name + '.pth'))\n",
    "torch.save(optimizer.state_dict(), os.path.join('weights', name + '.opt'))"
   ]
  },
  {
   "cell_type": "code",
   "execution_count": null,
   "metadata": {
    "colab": {
     "base_uri": "https://localhost:8080/"
    },
    "id": "_TANlIubQaAj",
    "outputId": "24bc3386-5fb9-4e5c-c298-5857091d74f6"
   },
   "outputs": [
    {
     "name": "stdout",
     "output_type": "stream",
     "text": [
      "time: 57.5 ms (started: 2024-10-27 19:39:49 +00:00)\n"
     ]
    }
   ],
   "source": [
    "model_reference = PatchMLPModel.load('weights/patch_mlp_7x7_1024.pth', device)\n",
    "player_reference = ThresholdPlayer(model_reference, 0.01, 0.99)\n",
    "test_player = ThresholdPlayer(model, 0.01, 0.99)"
   ]
  },
  {
   "cell_type": "code",
   "execution_count": 39,
   "metadata": {
    "colab": {
     "base_uri": "https://localhost:8080/"
    },
    "id": "8RlP928MQgzn",
    "outputId": "851c2cd6-39f8-43bf-ed64-8ad4ad65e3fb"
   },
   "outputs": [
    {
     "name": "stdout",
     "output_type": "stream",
     "text": [
      "player_reference: average score: 0.7955826771653544\n",
      "\twin rate: 0.283\n",
      "time: 8.75 s (started: 2024-10-27 20:22:57 +00:00)\n"
     ]
    }
   ],
   "source": [
    "games = Game(16, 30, 99, 1000)\n",
    "z = games.open_zero()\n",
    "player_reference.play(games)\n",
    "print(f'player_reference: average score: {np.average(games.scores(final_only=True))}')\n",
    "print(f'\\twin rate: {games.win_rate()}')\n",
    "reference_won = games.won.copy()"
   ]
  },
  {
   "cell_type": "code",
   "execution_count": 40,
   "metadata": {
    "colab": {
     "base_uri": "https://localhost:8080/"
    },
    "id": "E96uv2lrQ2V5",
    "outputId": "8fe33162-6f1a-4467-cd38-d01a0c39732e"
   },
   "outputs": [
    {
     "name": "stdout",
     "output_type": "stream",
     "text": [
      "test_player: average score: 0.7635091863517061\n",
      "\twin rate: 0.284\n",
      "time: 13.1 s (started: 2024-10-27 20:23:15 +00:00)\n"
     ]
    }
   ],
   "source": [
    "games.reset()\n",
    "games.move(z)\n",
    "test_player.play(games)\n",
    "print(f'test_player: average score: {np.average(games.scores(final_only=True))}')\n",
    "print(f'\\twin rate: {games.win_rate()}')"
   ]
  },
  {
   "cell_type": "code",
   "execution_count": 56,
   "metadata": {
    "colab": {
     "base_uri": "https://localhost:8080/"
    },
    "id": "FYRT1Ko0H2UC",
    "outputId": "75e3623e-6036-4494-c2f0-3540010ec3c7"
   },
   "outputs": [
    {
     "name": "stdout",
     "output_type": "stream",
     "text": [
      "Epoch 1\n",
      "-------------------------------\n",
      "0.306\n",
      "time: 3min 35s (started: 2024-10-27 20:35:13 +00:00)\n"
     ]
    }
   ],
   "source": [
    "reinforce_iterations = 1\n",
    "epochs = 1\n",
    "base_size, reinforce_size = 10_000, 10_000\n",
    "losing_move_weight = 2\n",
    "for i in range(reinforce_iterations):\n",
    "  base = utils.sample(dataset, base_size)\n",
    "  games = Game(16, 30, rng.normal(99, 30, reinforce_size).astype(int).clip(40, 160), reinforce_size)\n",
    "  games.open_zero()\n",
    "  player.play(games)\n",
    "  data = np.concatenate([base, games.as_dataset()])\n",
    "  weights = np.concatenate([np.ones_like(base), np.abs(games.losing_moves())*losing_move_weight])\n",
    "  train_data = MineSweeperDataset(data, transform, weights)\n",
    "  train_dataloader = DataLoader(train_data, batch_size, num_workers=4, pin_memory=True, shuffle=True)\n",
    "  for t in range(epochs):\n",
    "      print(f\"Epoch {t+1}\\n-------------------------------\")\n",
    "      train_loss.append(model.train(train_dataloader, optimizer))\n",
    "      player.play(test_games)\n",
    "      win_rate.append(test_games.win_rate())\n",
    "      print(win_rate[-1])\n",
    "      test_games.reset()\n",
    "      test_games.move(zeros)\n",
    "      test_loss.append(model.test(test_dataloader))"
   ]
  },
  {
   "cell_type": "code",
   "execution_count": 57,
   "metadata": {
    "colab": {
     "base_uri": "https://localhost:8080/",
     "height": 537
    },
    "id": "yIiWKuj-MSzk",
    "outputId": "b3ff40c9-f7a6-41b5-c082-0eef2086525d"
   },
   "outputs": [
    {
     "data": {
      "image/png": "[encoded data removed]",
      "text/plain": [
       "<Figure size 640x480 with 2 Axes>"
      ]
     },
     "metadata": {},
     "output_type": "display_data"
    },
    {
     "name": "stdout",
     "output_type": "stream",
     "text": [
      "time: 289 ms (started: 2024-10-27 20:38:49 +00:00)\n"
     ]
    }
   ],
   "source": [
    "fig, ax1 = plt.subplots()\n",
    "ax1.set_xlabel('epoch')\n",
    "\n",
    "ax1.plot(train_loss, color='tab:red', label = 'train')\n",
    "ax1.plot(test_loss, color='tab:orange', label = 'test')\n",
    "\n",
    "ax2 = ax1.twinx()  # instantiate a second Axes that shares the same x-axis\n",
    "\n",
    "color = 'tab:blue'\n",
    "ax2.plot(win_rate, color=color, label = 'win rate')\n",
    "\n",
    "fig.legend(loc=\"upper right\")\n",
    "plt.show()"
   ]
  },
  {
   "cell_type": "code",
   "execution_count": 55,
   "metadata": {
    "colab": {
     "base_uri": "https://localhost:8080/"
    },
    "id": "iHqvA67YMWqM",
    "outputId": "93b181eb-cb98-4e98-8e58-84ed8bf875f0"
   },
   "outputs": [
    {
     "name": "stdout",
     "output_type": "stream",
     "text": [
      "time: 103 ms (started: 2024-10-27 20:34:30 +00:00)\n"
     ]
    }
   ],
   "source": [
    "model.save(os.path.join('weights', name + '_reinforced.pth'))\n",
    "torch.save(optimizer.state_dict(), os.path.join('weights', name + '_reinforced.opt'))"
   ]
  },
  {
   "cell_type": "code",
   "execution_count": 62,
   "metadata": {
    "colab": {
     "base_uri": "https://localhost:8080/"
    },
    "id": "cNUbCOpCleSS",
    "outputId": "d28e837c-26da-410e-b55b-420c315c1e8c"
   },
   "outputs": [
    {
     "name": "stdout",
     "output_type": "stream",
     "text": [
      "player_reference: average score: 0.7900918635170605\n",
      "\twin rate: 0.282\n",
      "time: 8.58 s (started: 2024-10-27 20:39:51 +00:00)\n"
     ]
    }
   ],
   "source": [
    "games = Game(16, 30, 99, 1000)\n",
    "z = games.open_zero()\n",
    "player_reference.play(games)\n",
    "print(f'player_reference: average score: {np.average(games.scores(final_only=True))}')\n",
    "print(f'\\twin rate: {games.win_rate()}')\n",
    "reference_won = games.won.copy()"
   ]
  },
  {
   "cell_type": "code",
   "execution_count": 63,
   "metadata": {
    "colab": {
     "base_uri": "https://localhost:8080/"
    },
    "id": "QdGHFc9LQmpY",
    "outputId": "68466572-0815-4819-8e34-78395eef5610"
   },
   "outputs": [
    {
     "name": "stdout",
     "output_type": "stream",
     "text": [
      "test_player: average score: 0.8288136482939633\n",
      "\twin rate: 0.267\n",
      "time: 16.6 s (started: 2024-10-27 20:39:59 +00:00)\n"
     ]
    }
   ],
   "source": [
    "games.reset()\n",
    "games.move(z)\n",
    "test_player.play(games)\n",
    "print(f'test_player: average score: {np.average(games.scores(final_only=True))}')\n",
    "print(f'\\twin rate: {games.win_rate()}')"
   ]
  }
 ],
 "metadata": {
  "accelerator": "GPU",
  "colab": {
   "gpuType": "L4",
   "provenance": []
  },
  "kernelspec": {
   "display_name": "torch",
   "language": "python",
   "name": "python3"
  },
  "language_info": {
   "codemirror_mode": {
    "name": "ipython",
    "version": 3
   },
   "file_extension": ".py",
   "mimetype": "text/x-python",
   "name": "python",
   "nbconvert_exporter": "python",
   "pygments_lexer": "ipython3",
   "version": "3.12.6"
  }
 },
 "nbformat": 4,
 "nbformat_minor": 0
}
