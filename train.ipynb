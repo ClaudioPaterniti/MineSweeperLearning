{
  "cells": [
    {
      "cell_type": "code",
      "execution_count": 1,
      "metadata": {
        "id": "8F9ymaFAVcdD"
      },
      "outputs": [],
      "source": [
        "# ! git clone https://github.com/ClaudioPaterniti/MinesweeperLearning.git"
      ]
    },
    {
      "cell_type": "code",
      "execution_count": 2,
      "metadata": {
        "id": "vq8Ft_P5Vuo2"
      },
      "outputs": [],
      "source": [
        "# ! pip install plotly-express"
      ]
    },
    {
      "cell_type": "code",
      "execution_count": 3,
      "metadata": {
        "id": "ndyXfW-jVhfX"
      },
      "outputs": [],
      "source": [
        "import os\n",
        "# os.chdir('/content/MinesweeperLearning')"
      ]
    },
    {
      "cell_type": "code",
      "execution_count": 4,
      "metadata": {
        "id": "jOpl5fxmVK2g"
      },
      "outputs": [],
      "source": [
        "import torch\n",
        "import numpy as np\n",
        "\n",
        "from torch.utils.data import DataLoader\n",
        "\n",
        "from src.models.patch_mlp import MineSweeperDataset, PatchMLPModel, Game\n",
        "from src.player import Player, ThresholdPlayer"
      ]
    },
    {
      "cell_type": "code",
      "execution_count": 5,
      "metadata": {
        "colab": {
          "base_uri": "https://localhost:8080/"
        },
        "id": "6236riM2VK2h",
        "outputId": "d3ed4469-4268-438f-ca1d-aa690d880a95"
      },
      "outputs": [
        {
          "name": "stdout",
          "output_type": "stream",
          "text": [
            "cuda\n"
          ]
        }
      ],
      "source": [
        "device = (\n",
        "    \"cuda\"\n",
        "    if torch.cuda.is_available()\n",
        "    else \"mps\"\n",
        "    if torch.backends.mps.is_available()\n",
        "    else \"cpu\"\n",
        ")\n",
        "print(device)"
      ]
    },
    {
      "cell_type": "code",
      "execution_count": 6,
      "metadata": {
        "id": "gojmCqYfmDh8"
      },
      "outputs": [],
      "source": [
        "name = f'patch_mlp_ordinal_5x5_256_halving_mr'\n",
        "patch_radius = 2\n",
        "model = PatchMLPModel(\n",
        "    patch_radius,\n",
        "    layers=[2**i for i in range(8, 0, -1)],\n",
        "    ordinal_encoding = True,\n",
        "    mine_rate_channel=True, device=device)\n",
        "player = ThresholdPlayer(model, 0.05, 0.95)\n",
        "optimizer = torch.optim.Adam(model.model.parameters(), lr=0.001)"
      ]
    },
    {
      "cell_type": "code",
      "execution_count": 7,
      "metadata": {
        "id": "yQB7fhmpVK2h"
      },
      "outputs": [],
      "source": [
        "n = 10000\n",
        "mines_n = np.random.normal(99, 20, size=n).astype(np.int8)\n",
        "train = Game(16, 30, mines_n, n)\n",
        "train.random_open(0.3)\n",
        "train.random_flags(0.3)\n",
        "test = Game(n = 100)\n",
        "test.random_open(0.3)\n",
        "test.random_flags(0.3)"
      ]
    },
    {
      "cell_type": "code",
      "execution_count": 8,
      "metadata": {
        "id": "ZzFDddBwVK2i"
      },
      "outputs": [],
      "source": [
        "transform = model.transform\n",
        "batch_size = 64\n",
        "training_data = MineSweeperDataset(train, transform)\n",
        "test_data = MineSweeperDataset(test, transform, mines_weight=1, losing_moves_weight=1)\n",
        "train_dataloader = DataLoader(training_data, batch_size)\n",
        "test_dataloader = DataLoader(test_data, batch_size)"
      ]
    },
    {
      "cell_type": "code",
      "execution_count": 9,
      "metadata": {
        "colab": {
          "base_uri": "https://localhost:8080/"
        },
        "id": "EJX3QPFpVK2j",
        "outputId": "ef0bb5e1-69fa-4d09-a337-c4dba23a2652"
      },
      "outputs": [
        {
          "name": "stdout",
          "output_type": "stream",
          "text": [
            "Epoch 1\n",
            "-------------------------------\n",
            "Epoch 2\n",
            "-------------------------------\n",
            "Epoch 3\n",
            "-------------------------------\n",
            "Epoch 4\n",
            "-------------------------------\n",
            "Epoch 5\n",
            "-------------------------------\n",
            "Epoch 6\n",
            "-------------------------------\n",
            "Epoch 7\n",
            "-------------------------------\n",
            "Epoch 8\n",
            "-------------------------------\n",
            "Epoch 9\n",
            "-------------------------------\n",
            "Epoch 10\n",
            "-------------------------------\n"
          ]
        }
      ],
      "source": [
        "epochs = 10\n",
        "for t in range(epochs):\n",
        "    print(f\"Epoch {t+1}\\n-------------------------------\")\n",
        "    model.train(train_dataloader, optimizer)\n",
        "    model.test(test_dataloader)"
      ]
    },
    {
      "cell_type": "code",
      "execution_count": 10,
      "metadata": {
        "id": "AYlTMDEumDh9"
      },
      "outputs": [],
      "source": [
        "model.save(os.path.join('weights', name + '.pth'))\n",
        "torch.save(optimizer.state_dict(), os.path.join('weights', name + '.opt'))"
      ]
    },
    {
      "cell_type": "code",
      "execution_count": 11,
      "metadata": {
        "id": "JpCQ7EahmDh9"
      },
      "outputs": [],
      "source": [
        "def balanced_play(games: Game, player: Player, full_games: int, steps: int):\n",
        "    # play partial game to have a dataset with various stage of play\n",
        "    step = (games.n-full_games)//steps\n",
        "    for i in range(1, steps):\n",
        "        player.step(games[i*step:])\n",
        "    player.play(games[games.n-full_games:])"
      ]
    },
    {
      "cell_type": "code",
      "execution_count": 12,
      "metadata": {
        "colab": {
          "base_uri": "https://localhost:8080/"
        },
        "id": "4VU74w8XVK2j",
        "outputId": "18b36eac-009a-4e76-d3af-88feca3dafd2"
      },
      "outputs": [
        {
          "name": "stdout",
          "output_type": "stream",
          "text": [
            "iteration 1\n",
            "average score: 0.7122848103415018\n",
            "win rate: 0.0009260688377836086\n",
            "Epoch 1\n",
            "-------------------------------\n",
            "Epoch 2\n",
            "-------------------------------\n",
            "iteration 2\n",
            "average score: 0.6728132349239694\n",
            "win rate: 0.038974358974358976\n",
            "Epoch 1\n",
            "-------------------------------\n",
            "Epoch 2\n",
            "-------------------------------\n",
            "iteration 3\n",
            "average score: 0.6928372791728284\n",
            "win rate: 0.05310734463276836\n",
            "Epoch 1\n",
            "-------------------------------\n",
            "Epoch 2\n",
            "-------------------------------\n",
            "iteration 4\n",
            "average score: 0.7287160145390229\n",
            "win rate: 0.1098937583001328\n",
            "Epoch 1\n",
            "-------------------------------\n",
            "Epoch 2\n",
            "-------------------------------\n",
            "iteration 5\n",
            "average score: 0.7237185047579601\n",
            "win rate: 0.11854624863515832\n",
            "Epoch 1\n",
            "-------------------------------\n",
            "Epoch 2\n",
            "-------------------------------\n",
            "iteration 6\n",
            "average score: 0.7194262684029935\n",
            "win rate: 0.12604392205381998\n",
            "Epoch 1\n",
            "-------------------------------\n",
            "Epoch 2\n",
            "-------------------------------\n",
            "iteration 7\n",
            "average score: 0.7647839070053973\n",
            "win rate: 0.21755027422303475\n",
            "Epoch 1\n",
            "-------------------------------\n",
            "Epoch 2\n",
            "-------------------------------\n",
            "iteration 8\n",
            "average score: 0.7446788635897968\n",
            "win rate: 0.173421926910299\n",
            "Epoch 1\n",
            "-------------------------------\n",
            "Epoch 2\n",
            "-------------------------------\n",
            "iteration 9\n",
            "average score: 0.7196027372867064\n",
            "win rate: 0.10723589001447179\n",
            "Epoch 1\n",
            "-------------------------------\n",
            "Epoch 2\n",
            "-------------------------------\n",
            "iteration 10\n",
            "average score: 0.7474043444941718\n",
            "win rate: 0.1660438667749797\n",
            "Epoch 1\n",
            "-------------------------------\n",
            "Epoch 2\n",
            "-------------------------------\n"
          ]
        }
      ],
      "source": [
        "reinforcing_iterations = 10\n",
        "n = 10000\n",
        "epochs = 2\n",
        "for i in range(reinforcing_iterations):\n",
        "    print(f'iteration {i+1}')\n",
        "    mines_n = np.random.normal(99, 20, size=n).astype(np.int8)\n",
        "    games = Game(16, 30, mines_n, n)\n",
        "    games.random_open(0.3)\n",
        "    games.random_flags(0.3)\n",
        "    balanced_play(games, player, 3000, 7)\n",
        "    print(f'average score: {np.average(games.scores(final_only=True))}')\n",
        "    print(f'win rate: {games.win_rate()}')\n",
        "    training_data = MineSweeperDataset(games, transform, mines_weight=1, losing_moves_weight=1)\n",
        "    train_dataloader = DataLoader(training_data, batch_size, shuffle=True)\n",
        "    for t in range(epochs):\n",
        "        print(f\"Epoch {t+1}\\n-------------------------------\")\n",
        "        model.train(train_dataloader, optimizer)\n",
        "        model.test(test_dataloader)\n",
        "    model.save(os.path.join('weights', name + '_l2.pth'))\n",
        "    torch.save(optimizer.state_dict(), os.path.join('weights', name + '.opt'))"
      ]
    },
    {
      "cell_type": "code",
      "execution_count": 13,
      "metadata": {
        "id": "yrbNbtpSVK2j"
      },
      "outputs": [],
      "source": [
        "model.save(os.path.join('weights', name + '.pth'))\n",
        "torch.save(optimizer.state_dict(), os.path.join('weights', name + '.opt'))"
      ]
    },
    {
      "cell_type": "code",
      "execution_count": 14,
      "metadata": {
        "colab": {
          "base_uri": "https://localhost:8080/",
          "height": 542
        },
        "id": "_e3sKHQEVK2j",
        "outputId": "ba5ff0c4-a0ed-459d-dcae-0cd7d2f568c0"
      },
      "outputs": [
        {
          "data": {
            "text/html": [
              "<html>\n",
              "<head><meta charset=\"utf-8\" /></head>\n",
              "<body>\n",
              "    <div>            <script src=\"https://cdnjs.cloudflare.com/ajax/libs/mathjax/2.7.5/MathJax.js?config=TeX-AMS-MML_SVG\"></script><script type=\"text/javascript\">if (window.MathJax && window.MathJax.Hub && window.MathJax.Hub.Config) {window.MathJax.Hub.Config({SVG: {font: \"STIX-Web\"}});}</script>                <script type=\"text/javascript\">window.PlotlyConfig = {MathJaxConfig: 'local'};</script>\n",
              "        <script charset=\"utf-8\" src=\"https://cdn.plot.ly/plotly-2.35.2.min.js\"></script>                <div id=\"086317ed-95f8-47c2-a8dd-1e9fbb783797\" class=\"plotly-graph-div\" style=\"height:525px; width:100%;\"></div>            <script type=\"text/javascript\">                                    window.PLOTLYENV=window.PLOTLYENV || {};                                    if (document.getElementById(\"086317ed-95f8-47c2-a8dd-1e9fbb783797\")) {                    Plotly.newPlot(                        \"086317ed-95f8-47c2-a8dd-1e9fbb783797\",                        [{\"hovertemplate\":\"variable=train\\u003cbr\\u003eindex=%{x}\\u003cbr\\u003evalue=%{y}\\u003cextra\\u003e\\u003c\\u002fextra\\u003e\",\"legendgroup\":\"train\",\"line\":{\"color\":\"#636efa\",\"dash\":\"solid\"},\"marker\":{\"symbol\":\"circle\"},\"mode\":\"lines\",\"name\":\"train\",\"orientation\":\"v\",\"showlegend\":true,\"x\":[0,1,2,3,4,5,6,7,8,9,10,11,12,13,14,15,16,17,18,19,20,21,22,23,24,25,26,27,28,29],\"xaxis\":\"x\",\"y\":[0.6379853145332094,0.4857846881933273,0.4222744526756797,0.40071204874166255,0.388890267747223,0.3783737624147136,0.37095707427164554,0.3645083653699061,0.3597166211741745,0.3551415442281468,0.23522786634742834,0.2189574760806029,0.21687757465869759,0.2059287057750544,0.19570879448371328,0.19376631973275713,0.17542692269109617,0.17254060051243775,0.17384763014544347,0.17152674761927053,0.17064710511903095,0.16863885246644353,0.1547287472399177,0.15396034404350695,0.15722057327723046,0.1562928154969671,0.1709252084326592,0.1685093083199422,0.1550868090455699,0.15331432745335208],\"yaxis\":\"y\",\"type\":\"scatter\"},{\"hovertemplate\":\"variable=test\\u003cbr\\u003eindex=%{x}\\u003cbr\\u003evalue=%{y}\\u003cextra\\u003e\\u003c\\u002fextra\\u003e\",\"legendgroup\":\"test\",\"line\":{\"color\":\"#EF553B\",\"dash\":\"solid\"},\"marker\":{\"symbol\":\"circle\"},\"mode\":\"lines\",\"name\":\"test\",\"orientation\":\"v\",\"showlegend\":true,\"x\":[0,1,2,3,4,5,6,7,8,9,10,11,12,13,14,15,16,17,18,19,20,21,22,23,24,25,26,27,28,29],\"xaxis\":\"x\",\"y\":[0.5534929931163788,0.43722938001155853,0.40851065516471863,0.3927668333053589,0.3830151855945587,0.3808169960975647,0.368957981467247,0.36250409483909607,0.3584790825843811,0.3556434214115143,0.37267155945301056,0.36439095437526703,0.36076533794403076,0.3541976362466812,0.35293935239315033,0.3519875556230545,0.35122694075107574,0.34831348061561584,0.3504980206489563,0.35011978447437286,0.3470887839794159,0.34620825946331024,0.34563352167606354,0.34442536532878876,0.34470728039741516,0.3449377715587616,0.34592820703983307,0.3444571793079376,0.3439309746026993,0.3420405387878418],\"yaxis\":\"y\",\"type\":\"scatter\"}],                        {\"template\":{\"data\":{\"histogram2dcontour\":[{\"type\":\"histogram2dcontour\",\"colorbar\":{\"outlinewidth\":0,\"ticks\":\"\"},\"colorscale\":[[0.0,\"#0d0887\"],[0.1111111111111111,\"#46039f\"],[0.2222222222222222,\"#7201a8\"],[0.3333333333333333,\"#9c179e\"],[0.4444444444444444,\"#bd3786\"],[0.5555555555555556,\"#d8576b\"],[0.6666666666666666,\"#ed7953\"],[0.7777777777777778,\"#fb9f3a\"],[0.8888888888888888,\"#fdca26\"],[1.0,\"#f0f921\"]]}],\"choropleth\":[{\"type\":\"choropleth\",\"colorbar\":{\"outlinewidth\":0,\"ticks\":\"\"}}],\"histogram2d\":[{\"type\":\"histogram2d\",\"colorbar\":{\"outlinewidth\":0,\"ticks\":\"\"},\"colorscale\":[[0.0,\"#0d0887\"],[0.1111111111111111,\"#46039f\"],[0.2222222222222222,\"#7201a8\"],[0.3333333333333333,\"#9c179e\"],[0.4444444444444444,\"#bd3786\"],[0.5555555555555556,\"#d8576b\"],[0.6666666666666666,\"#ed7953\"],[0.7777777777777778,\"#fb9f3a\"],[0.8888888888888888,\"#fdca26\"],[1.0,\"#f0f921\"]]}],\"heatmap\":[{\"type\":\"heatmap\",\"colorbar\":{\"outlinewidth\":0,\"ticks\":\"\"},\"colorscale\":[[0.0,\"#0d0887\"],[0.1111111111111111,\"#46039f\"],[0.2222222222222222,\"#7201a8\"],[0.3333333333333333,\"#9c179e\"],[0.4444444444444444,\"#bd3786\"],[0.5555555555555556,\"#d8576b\"],[0.6666666666666666,\"#ed7953\"],[0.7777777777777778,\"#fb9f3a\"],[0.8888888888888888,\"#fdca26\"],[1.0,\"#f0f921\"]]}],\"heatmapgl\":[{\"type\":\"heatmapgl\",\"colorbar\":{\"outlinewidth\":0,\"ticks\":\"\"},\"colorscale\":[[0.0,\"#0d0887\"],[0.1111111111111111,\"#46039f\"],[0.2222222222222222,\"#7201a8\"],[0.3333333333333333,\"#9c179e\"],[0.4444444444444444,\"#bd3786\"],[0.5555555555555556,\"#d8576b\"],[0.6666666666666666,\"#ed7953\"],[0.7777777777777778,\"#fb9f3a\"],[0.8888888888888888,\"#fdca26\"],[1.0,\"#f0f921\"]]}],\"contourcarpet\":[{\"type\":\"contourcarpet\",\"colorbar\":{\"outlinewidth\":0,\"ticks\":\"\"}}],\"contour\":[{\"type\":\"contour\",\"colorbar\":{\"outlinewidth\":0,\"ticks\":\"\"},\"colorscale\":[[0.0,\"#0d0887\"],[0.1111111111111111,\"#46039f\"],[0.2222222222222222,\"#7201a8\"],[0.3333333333333333,\"#9c179e\"],[0.4444444444444444,\"#bd3786\"],[0.5555555555555556,\"#d8576b\"],[0.6666666666666666,\"#ed7953\"],[0.7777777777777778,\"#fb9f3a\"],[0.8888888888888888,\"#fdca26\"],[1.0,\"#f0f921\"]]}],\"surface\":[{\"type\":\"surface\",\"colorbar\":{\"outlinewidth\":0,\"ticks\":\"\"},\"colorscale\":[[0.0,\"#0d0887\"],[0.1111111111111111,\"#46039f\"],[0.2222222222222222,\"#7201a8\"],[0.3333333333333333,\"#9c179e\"],[0.4444444444444444,\"#bd3786\"],[0.5555555555555556,\"#d8576b\"],[0.6666666666666666,\"#ed7953\"],[0.7777777777777778,\"#fb9f3a\"],[0.8888888888888888,\"#fdca26\"],[1.0,\"#f0f921\"]]}],\"mesh3d\":[{\"type\":\"mesh3d\",\"colorbar\":{\"outlinewidth\":0,\"ticks\":\"\"}}],\"scatter\":[{\"fillpattern\":{\"fillmode\":\"overlay\",\"size\":10,\"solidity\":0.2},\"type\":\"scatter\"}],\"parcoords\":[{\"type\":\"parcoords\",\"line\":{\"colorbar\":{\"outlinewidth\":0,\"ticks\":\"\"}}}],\"scatterpolargl\":[{\"type\":\"scatterpolargl\",\"marker\":{\"colorbar\":{\"outlinewidth\":0,\"ticks\":\"\"}}}],\"bar\":[{\"error_x\":{\"color\":\"#2a3f5f\"},\"error_y\":{\"color\":\"#2a3f5f\"},\"marker\":{\"line\":{\"color\":\"#E5ECF6\",\"width\":0.5},\"pattern\":{\"fillmode\":\"overlay\",\"size\":10,\"solidity\":0.2}},\"type\":\"bar\"}],\"scattergeo\":[{\"type\":\"scattergeo\",\"marker\":{\"colorbar\":{\"outlinewidth\":0,\"ticks\":\"\"}}}],\"scatterpolar\":[{\"type\":\"scatterpolar\",\"marker\":{\"colorbar\":{\"outlinewidth\":0,\"ticks\":\"\"}}}],\"histogram\":[{\"marker\":{\"pattern\":{\"fillmode\":\"overlay\",\"size\":10,\"solidity\":0.2}},\"type\":\"histogram\"}],\"scattergl\":[{\"type\":\"scattergl\",\"marker\":{\"colorbar\":{\"outlinewidth\":0,\"ticks\":\"\"}}}],\"scatter3d\":[{\"type\":\"scatter3d\",\"line\":{\"colorbar\":{\"outlinewidth\":0,\"ticks\":\"\"}},\"marker\":{\"colorbar\":{\"outlinewidth\":0,\"ticks\":\"\"}}}],\"scattermapbox\":[{\"type\":\"scattermapbox\",\"marker\":{\"colorbar\":{\"outlinewidth\":0,\"ticks\":\"\"}}}],\"scatterternary\":[{\"type\":\"scatterternary\",\"marker\":{\"colorbar\":{\"outlinewidth\":0,\"ticks\":\"\"}}}],\"scattercarpet\":[{\"type\":\"scattercarpet\",\"marker\":{\"colorbar\":{\"outlinewidth\":0,\"ticks\":\"\"}}}],\"carpet\":[{\"aaxis\":{\"endlinecolor\":\"#2a3f5f\",\"gridcolor\":\"white\",\"linecolor\":\"white\",\"minorgridcolor\":\"white\",\"startlinecolor\":\"#2a3f5f\"},\"baxis\":{\"endlinecolor\":\"#2a3f5f\",\"gridcolor\":\"white\",\"linecolor\":\"white\",\"minorgridcolor\":\"white\",\"startlinecolor\":\"#2a3f5f\"},\"type\":\"carpet\"}],\"table\":[{\"cells\":{\"fill\":{\"color\":\"#EBF0F8\"},\"line\":{\"color\":\"white\"}},\"header\":{\"fill\":{\"color\":\"#C8D4E3\"},\"line\":{\"color\":\"white\"}},\"type\":\"table\"}],\"barpolar\":[{\"marker\":{\"line\":{\"color\":\"#E5ECF6\",\"width\":0.5},\"pattern\":{\"fillmode\":\"overlay\",\"size\":10,\"solidity\":0.2}},\"type\":\"barpolar\"}],\"pie\":[{\"automargin\":true,\"type\":\"pie\"}]},\"layout\":{\"autotypenumbers\":\"strict\",\"colorway\":[\"#636efa\",\"#EF553B\",\"#00cc96\",\"#ab63fa\",\"#FFA15A\",\"#19d3f3\",\"#FF6692\",\"#B6E880\",\"#FF97FF\",\"#FECB52\"],\"font\":{\"color\":\"#2a3f5f\"},\"hovermode\":\"closest\",\"hoverlabel\":{\"align\":\"left\"},\"paper_bgcolor\":\"white\",\"plot_bgcolor\":\"#E5ECF6\",\"polar\":{\"bgcolor\":\"#E5ECF6\",\"angularaxis\":{\"gridcolor\":\"white\",\"linecolor\":\"white\",\"ticks\":\"\"},\"radialaxis\":{\"gridcolor\":\"white\",\"linecolor\":\"white\",\"ticks\":\"\"}},\"ternary\":{\"bgcolor\":\"#E5ECF6\",\"aaxis\":{\"gridcolor\":\"white\",\"linecolor\":\"white\",\"ticks\":\"\"},\"baxis\":{\"gridcolor\":\"white\",\"linecolor\":\"white\",\"ticks\":\"\"},\"caxis\":{\"gridcolor\":\"white\",\"linecolor\":\"white\",\"ticks\":\"\"}},\"coloraxis\":{\"colorbar\":{\"outlinewidth\":0,\"ticks\":\"\"}},\"colorscale\":{\"sequential\":[[0.0,\"#0d0887\"],[0.1111111111111111,\"#46039f\"],[0.2222222222222222,\"#7201a8\"],[0.3333333333333333,\"#9c179e\"],[0.4444444444444444,\"#bd3786\"],[0.5555555555555556,\"#d8576b\"],[0.6666666666666666,\"#ed7953\"],[0.7777777777777778,\"#fb9f3a\"],[0.8888888888888888,\"#fdca26\"],[1.0,\"#f0f921\"]],\"sequentialminus\":[[0.0,\"#0d0887\"],[0.1111111111111111,\"#46039f\"],[0.2222222222222222,\"#7201a8\"],[0.3333333333333333,\"#9c179e\"],[0.4444444444444444,\"#bd3786\"],[0.5555555555555556,\"#d8576b\"],[0.6666666666666666,\"#ed7953\"],[0.7777777777777778,\"#fb9f3a\"],[0.8888888888888888,\"#fdca26\"],[1.0,\"#f0f921\"]],\"diverging\":[[0,\"#8e0152\"],[0.1,\"#c51b7d\"],[0.2,\"#de77ae\"],[0.3,\"#f1b6da\"],[0.4,\"#fde0ef\"],[0.5,\"#f7f7f7\"],[0.6,\"#e6f5d0\"],[0.7,\"#b8e186\"],[0.8,\"#7fbc41\"],[0.9,\"#4d9221\"],[1,\"#276419\"]]},\"xaxis\":{\"gridcolor\":\"white\",\"linecolor\":\"white\",\"ticks\":\"\",\"title\":{\"standoff\":15},\"zerolinecolor\":\"white\",\"automargin\":true,\"zerolinewidth\":2},\"yaxis\":{\"gridcolor\":\"white\",\"linecolor\":\"white\",\"ticks\":\"\",\"title\":{\"standoff\":15},\"zerolinecolor\":\"white\",\"automargin\":true,\"zerolinewidth\":2},\"scene\":{\"xaxis\":{\"backgroundcolor\":\"#E5ECF6\",\"gridcolor\":\"white\",\"linecolor\":\"white\",\"showbackground\":true,\"ticks\":\"\",\"zerolinecolor\":\"white\",\"gridwidth\":2},\"yaxis\":{\"backgroundcolor\":\"#E5ECF6\",\"gridcolor\":\"white\",\"linecolor\":\"white\",\"showbackground\":true,\"ticks\":\"\",\"zerolinecolor\":\"white\",\"gridwidth\":2},\"zaxis\":{\"backgroundcolor\":\"#E5ECF6\",\"gridcolor\":\"white\",\"linecolor\":\"white\",\"showbackground\":true,\"ticks\":\"\",\"zerolinecolor\":\"white\",\"gridwidth\":2}},\"shapedefaults\":{\"line\":{\"color\":\"#2a3f5f\"}},\"annotationdefaults\":{\"arrowcolor\":\"#2a3f5f\",\"arrowhead\":0,\"arrowwidth\":1},\"geo\":{\"bgcolor\":\"white\",\"landcolor\":\"#E5ECF6\",\"subunitcolor\":\"white\",\"showland\":true,\"showlakes\":true,\"lakecolor\":\"white\"},\"title\":{\"x\":0.05},\"mapbox\":{\"style\":\"light\"}}},\"xaxis\":{\"anchor\":\"y\",\"domain\":[0.0,1.0],\"title\":{\"text\":\"index\"}},\"yaxis\":{\"anchor\":\"x\",\"domain\":[0.0,1.0],\"title\":{\"text\":\"value\"}},\"legend\":{\"title\":{\"text\":\"variable\"},\"tracegroupgap\":0},\"margin\":{\"t\":60}},                        {\"responsive\": true}                    ).then(function(){\n",
              "                            \n",
              "var gd = document.getElementById('086317ed-95f8-47c2-a8dd-1e9fbb783797');\n",
              "var x = new MutationObserver(function (mutations, observer) {{\n",
              "        var display = window.getComputedStyle(gd).display;\n",
              "        if (!display || display === 'none') {{\n",
              "            console.log([gd, 'removed!']);\n",
              "            Plotly.purge(gd);\n",
              "            observer.disconnect();\n",
              "        }}\n",
              "}});\n",
              "\n",
              "// Listen for the removal of the full notebook cells\n",
              "var notebookContainer = gd.closest('#notebook-container');\n",
              "if (notebookContainer) {{\n",
              "    x.observe(notebookContainer, {childList: true});\n",
              "}}\n",
              "\n",
              "// Listen for the clearing of the current output cell\n",
              "var outputEl = gd.closest('.output');\n",
              "if (outputEl) {{\n",
              "    x.observe(outputEl, {childList: true});\n",
              "}}\n",
              "\n",
              "                        })                };                            </script>        </div>\n",
              "</body>\n",
              "</html>"
            ]
          },
          "metadata": {},
          "output_type": "display_data"
        }
      ],
      "source": [
        "import plotly_express as px\n",
        "import pandas as pd\n",
        "df = pd.DataFrame({'train': model.train_loss_log, 'test': model.test_loss_log})\n",
        "px.line(df)"
      ]
    }
  ],
  "metadata": {
    "accelerator": "GPU",
    "colab": {
      "gpuType": "T4",
      "provenance": []
    },
    "kernelspec": {
      "display_name": "torch",
      "language": "python",
      "name": "python3"
    },
    "language_info": {
      "codemirror_mode": {
        "name": "ipython",
        "version": 3
      },
      "file_extension": ".py",
      "mimetype": "text/x-python",
      "name": "python",
      "nbconvert_exporter": "python",
      "pygments_lexer": "ipython3",
      "version": "3.12.6"
    }
  },
  "nbformat": 4,
  "nbformat_minor": 0
}
