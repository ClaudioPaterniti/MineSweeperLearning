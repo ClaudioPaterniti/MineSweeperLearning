{
  "cells": [
    {
      "cell_type": "code",
      "execution_count": 2,
      "metadata": {
        "colab": {
          "base_uri": "https://localhost:8080/"
        },
        "id": "8F9ymaFAVcdD",
        "outputId": "58016440-947e-416b-98de-474d3afaa61b"
      },
      "outputs": [
        {
          "name": "stdout",
          "output_type": "stream",
          "text": [
            "Cloning into 'MinesweeperLearning'...\n",
            "remote: Enumerating objects: 320, done.\u001b[K\n",
            "remote: Counting objects: 100% (320/320), done.\u001b[K\n",
            "remote: Compressing objects: 100% (205/205), done.\u001b[K\n",
            "remote: Total 320 (delta 145), reused 274 (delta 101), pack-reused 0 (from 0)\u001b[K\n",
            "Receiving objects: 100% (320/320), 27.95 MiB | 25.38 MiB/s, done.\n",
            "Resolving deltas: 100% (145/145), done.\n"
          ]
        }
      ],
      "source": [
        "! git clone https://github.com/ClaudioPaterniti/MinesweeperLearning.git"
      ]
    },
    {
      "cell_type": "markdown",
      "metadata": {
        "id": "4Y4GCYckKrZk"
      },
      "source": []
    },
    {
      "cell_type": "code",
      "execution_count": 1,
      "metadata": {
        "id": "vq8Ft_P5Vuo2"
      },
      "outputs": [],
      "source": [
        "import os\n",
        "os.chdir('/content/MinesweeperLearning')"
      ]
    },
    {
      "cell_type": "code",
      "execution_count": 2,
      "metadata": {
        "id": "jOpl5fxmVK2g"
      },
      "outputs": [],
      "source": [
        "import torch\n",
        "import numpy as np\n",
        "\n",
        "import src.utils as utils\n",
        "\n",
        "from torch.utils.data import DataLoader\n",
        "\n",
        "from src.models.patch_mlp import MineSweeperDataset, PatchMLPModel, Game\n",
        "from src.player import Player, ThresholdPlayer"
      ]
    },
    {
      "cell_type": "code",
      "execution_count": 3,
      "metadata": {
        "colab": {
          "base_uri": "https://localhost:8080/"
        },
        "id": "6236riM2VK2h",
        "outputId": "467c26ae-1879-456a-f28a-aa4971b33e5d"
      },
      "outputs": [
        {
          "name": "stdout",
          "output_type": "stream",
          "text": [
            "cuda\n"
          ]
        }
      ],
      "source": [
        "device = (\n",
        "    \"cuda\"\n",
        "    if torch.cuda.is_available()\n",
        "    else \"mps\"\n",
        "    if torch.backends.mps.is_available()\n",
        "    else \"cpu\"\n",
        ")\n",
        "print(device)"
      ]
    },
    {
      "cell_type": "code",
      "execution_count": 4,
      "metadata": {
        "id": "gojmCqYfmDh8"
      },
      "outputs": [],
      "source": [
        "patch_radius = 3\n",
        "d = 2*patch_radius+1\n",
        "layers=[2**i for i in range(9, 0, -1)]\n",
        "name = f'patch_mlp_ordinal_{d}x{d}_{layers[0]}_halving'\n",
        "\n",
        "model = PatchMLPModel(\n",
        "    patch_radius,\n",
        "    layers,\n",
        "    ordinal_encoding = False,\n",
        "    mine_rate_channel=True, device=device)\n",
        "player = ThresholdPlayer(model, 0.05, 0.95)\n",
        "optimizer = torch.optim.Adam(model.model.parameters(), lr=0.001)"
      ]
    },
    {
      "cell_type": "code",
      "execution_count": 5,
      "metadata": {
        "id": "yQB7fhmpVK2h"
      },
      "outputs": [],
      "source": [
        "training_size = 50000\n",
        "train = utils.sample(np.load('data/dataset.npy'), training_size)\n",
        "test = Game(n = 500)\n",
        "zeros = test.open_zero()"
      ]
    },
    {
      "cell_type": "code",
      "execution_count": 6,
      "metadata": {
        "id": "ZzFDddBwVK2i"
      },
      "outputs": [],
      "source": [
        "transform = model.transform\n",
        "batch_size = 128\n",
        "training_data = MineSweeperDataset(train, transform)\n",
        "train_dataloader = DataLoader(training_data, batch_size)"
      ]
    },
    {
      "cell_type": "code",
      "execution_count": 7,
      "metadata": {
        "colab": {
          "base_uri": "https://localhost:8080/"
        },
        "id": "EJX3QPFpVK2j",
        "outputId": "d4c3eae1-9c55-4026-c1d7-251abe8481a5"
      },
      "outputs": [
        {
          "name": "stdout",
          "output_type": "stream",
          "text": [
            "Epoch 1\n",
            "-------------------------------\n",
            "0.0\n",
            "Epoch 2\n",
            "-------------------------------\n",
            "0.0\n",
            "Epoch 3\n",
            "-------------------------------\n",
            "0.01\n",
            "Epoch 4\n",
            "-------------------------------\n",
            "0.014\n",
            "Epoch 5\n",
            "-------------------------------\n",
            "0.028\n",
            "Epoch 6\n",
            "-------------------------------\n",
            "0.026\n",
            "Epoch 7\n",
            "-------------------------------\n",
            "0.042\n",
            "Epoch 8\n",
            "-------------------------------\n",
            "0.054\n",
            "Epoch 9\n",
            "-------------------------------\n",
            "0.048\n",
            "Epoch 10\n",
            "-------------------------------\n",
            "0.068\n"
          ]
        }
      ],
      "source": [
        "epochs = 10\n",
        "for t in range(epochs):\n",
        "    print(f\"Epoch {t+1}\\n-------------------------------\")\n",
        "    model.train(train_dataloader, optimizer)\n",
        "    player.play(test)\n",
        "    print(test.win_rate())\n",
        "    test.reset()\n",
        "    test.open(zeros)"
      ]
    },
    {
      "cell_type": "code",
      "execution_count": null,
      "metadata": {
        "id": "AYlTMDEumDh9"
      },
      "outputs": [],
      "source": [
        "model.save(os.path.join('weights', name + '.pth'))\n",
        "torch.save(optimizer.state_dict(), os.path.join('weights', name + '.opt'))"
      ]
    },
    {
      "cell_type": "code",
      "execution_count": 8,
      "metadata": {
        "id": "mA7IzlI0j1Gn"
      },
      "outputs": [],
      "source": [
        "g = Game(16, 30, 99, n=1)\n",
        "_ = g.open_zero()"
      ]
    },
    {
      "cell_type": "code",
      "execution_count": 10,
      "metadata": {
        "colab": {
          "base_uri": "https://localhost:8080/",
          "height": 660
        },
        "id": "lsJN8XhYjuRo",
        "outputId": "619ec779-a40e-45ab-b474-64d4cdf073e0"
      },
      "outputs": [
        {
          "name": "stdout",
          "output_type": "stream",
          "text": [
            "[ True]\n",
            "[False]\n"
          ]
        },
        {
          "data": {
            "image/png": "[encoded data removed]",
            "text/plain": [
              "<Figure size 1050x560 with 1 Axes>"
            ]
          },
          "metadata": {},
          "output_type": "display_data"
        },
        {
          "data": {
            "text/plain": [
              "(<Axes: >,\n",
              " <matplotlib.image.AxesImage at 0x7865400739d0>,\n",
              " <matplotlib.image.AxesImage at 0x78652edf56c0>)"
            ]
          },
          "execution_count": 10,
          "metadata": {},
          "output_type": "execute_result"
        }
      ],
      "source": [
        "o, f = player.step(g)\n",
        "print(g.active_games)\n",
        "print(g.won)\n",
        "p = model(g.game_state(), g.mines_n)\n",
        "g.pyplot_game(0, mine_probs=p[0], highlighted='last_moves', print_zeros= True, size=0.35) # highlight newly opened in red"
      ]
    },
    {
      "cell_type": "code",
      "execution_count": null,
      "metadata": {
        "colab": {
          "base_uri": "https://localhost:8080/"
        },
        "id": "4VU74w8XVK2j",
        "outputId": "18b36eac-009a-4e76-d3af-88feca3dafd2"
      },
      "outputs": [
        {
          "name": "stdout",
          "output_type": "stream",
          "text": [
            "iteration 1\n",
            "average score: 0.7122848103415018\n",
            "win rate: 0.0009260688377836086\n",
            "Epoch 1\n",
            "-------------------------------\n",
            "Epoch 2\n",
            "-------------------------------\n",
            "iteration 2\n",
            "average score: 0.6728132349239694\n",
            "win rate: 0.038974358974358976\n",
            "Epoch 1\n",
            "-------------------------------\n",
            "Epoch 2\n",
            "-------------------------------\n",
            "iteration 3\n",
            "average score: 0.6928372791728284\n",
            "win rate: 0.05310734463276836\n",
            "Epoch 1\n",
            "-------------------------------\n",
            "Epoch 2\n",
            "-------------------------------\n",
            "iteration 4\n",
            "average score: 0.7287160145390229\n",
            "win rate: 0.1098937583001328\n",
            "Epoch 1\n",
            "-------------------------------\n",
            "Epoch 2\n",
            "-------------------------------\n",
            "iteration 5\n",
            "average score: 0.7237185047579601\n",
            "win rate: 0.11854624863515832\n",
            "Epoch 1\n",
            "-------------------------------\n",
            "Epoch 2\n",
            "-------------------------------\n",
            "iteration 6\n",
            "average score: 0.7194262684029935\n",
            "win rate: 0.12604392205381998\n",
            "Epoch 1\n",
            "-------------------------------\n",
            "Epoch 2\n",
            "-------------------------------\n",
            "iteration 7\n",
            "average score: 0.7647839070053973\n",
            "win rate: 0.21755027422303475\n",
            "Epoch 1\n",
            "-------------------------------\n",
            "Epoch 2\n",
            "-------------------------------\n",
            "iteration 8\n",
            "average score: 0.7446788635897968\n",
            "win rate: 0.173421926910299\n",
            "Epoch 1\n",
            "-------------------------------\n",
            "Epoch 2\n",
            "-------------------------------\n",
            "iteration 9\n",
            "average score: 0.7196027372867064\n",
            "win rate: 0.10723589001447179\n",
            "Epoch 1\n",
            "-------------------------------\n",
            "Epoch 2\n",
            "-------------------------------\n",
            "iteration 10\n",
            "average score: 0.7474043444941718\n",
            "win rate: 0.1660438667749797\n",
            "Epoch 1\n",
            "-------------------------------\n",
            "Epoch 2\n",
            "-------------------------------\n"
          ]
        }
      ],
      "source": [
        "reinforcing_iterations = 10\n",
        "n = 10000\n",
        "epochs = 2\n",
        "for i in range(reinforcing_iterations):\n",
        "    print(f'iteration {i+1}')\n",
        "    mines_n = np.random.normal(99, 20, size=n).astype(np.int8)\n",
        "    games = Game(16, 30, mines_n, n)\n",
        "    games.random_open(0.3)\n",
        "    games.random_flags(0.3)\n",
        "    balanced_play(games, player, 3000, 7)\n",
        "    print(f'average score: {np.average(games.scores(final_only=True))}')\n",
        "    print(f'win rate: {games.win_rate()}')\n",
        "    training_data = MineSweeperDataset(games, transform, mines_weight=1, losing_moves_weight=1)\n",
        "    train_dataloader = DataLoader(training_data, batch_size, shuffle=True)\n",
        "    for t in range(epochs):\n",
        "        print(f\"Epoch {t+1}\\n-------------------------------\")\n",
        "        model.train(train_dataloader, optimizer)\n",
        "        model.test(test_dataloader)\n",
        "    model.save(os.path.join('weights', name + '_l2.pth'))\n",
        "    torch.save(optimizer.state_dict(), os.path.join('weights', name + '.opt'))"
      ]
    },
    {
      "cell_type": "code",
      "execution_count": null,
      "metadata": {
        "id": "yrbNbtpSVK2j"
      },
      "outputs": [],
      "source": [
        "model.save(os.path.join('weights', name + '.pth'))\n",
        "torch.save(optimizer.state_dict(), os.path.join('weights', name + '.opt'))"
      ]
    }
  ],
  "metadata": {
    "accelerator": "GPU",
    "colab": {
      "gpuType": "T4",
      "provenance": []
    },
    "kernelspec": {
      "display_name": "torch",
      "language": "python",
      "name": "python3"
    },
    "language_info": {
      "codemirror_mode": {
        "name": "ipython",
        "version": 3
      },
      "file_extension": ".py",
      "mimetype": "text/x-python",
      "name": "python",
      "nbconvert_exporter": "python",
      "pygments_lexer": "ipython3",
      "version": "3.12.6"
    }
  },
  "nbformat": 4,
  "nbformat_minor": 0
}
