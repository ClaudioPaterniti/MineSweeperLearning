{
  "cells": [
    {
      "cell_type": "code",
      "execution_count": 1,
      "metadata": {
        "id": "8F9ymaFAVcdD",
        "colab": {
          "base_uri": "https://localhost:8080/"
        },
        "outputId": "a1174f92-3847-4165-fd27-7af7b24bf7e2"
      },
      "outputs": [
        {
          "output_type": "stream",
          "name": "stdout",
          "text": [
            "Cloning into 'MinesweeperLearning'...\n",
            "remote: Enumerating objects: 391, done.\u001b[K\n",
            "remote: Counting objects: 100% (391/391), done.\u001b[K\n",
            "remote: Compressing objects: 100% (253/253), done.\u001b[K\n",
            "remote: Total 391 (delta 187), reused 325 (delta 123), pack-reused 0 (from 0)\u001b[K\n",
            "Receiving objects: 100% (391/391), 37.11 MiB | 16.42 MiB/s, done.\n",
            "Resolving deltas: 100% (187/187), done.\n"
          ]
        }
      ],
      "source": [
        "# ! git clone https://github.com/ClaudioPaterniti/MinesweeperLearning.git"
      ]
    },
    {
      "cell_type": "code",
      "execution_count": 2,
      "metadata": {
        "colab": {
          "base_uri": "https://localhost:8080/"
        },
        "id": "FlBcfX6cFiof",
        "outputId": "82e9c864-3230-4db8-8863-b23d50092fee"
      },
      "outputs": [
        {
          "output_type": "stream",
          "name": "stdout",
          "text": [
            "Collecting ipython-autotime\n",
            "  Downloading ipython_autotime-0.3.2-py2.py3-none-any.whl.metadata (1.4 kB)\n",
            "Requirement already satisfied: ipython in /usr/local/lib/python3.10/dist-packages (from ipython-autotime) (7.34.0)\n",
            "Requirement already satisfied: setuptools>=18.5 in /usr/local/lib/python3.10/dist-packages (from ipython->ipython-autotime) (75.1.0)\n",
            "Collecting jedi>=0.16 (from ipython->ipython-autotime)\n",
            "  Downloading jedi-0.19.1-py2.py3-none-any.whl.metadata (22 kB)\n",
            "Requirement already satisfied: decorator in /usr/local/lib/python3.10/dist-packages (from ipython->ipython-autotime) (4.4.2)\n",
            "Requirement already satisfied: pickleshare in /usr/local/lib/python3.10/dist-packages (from ipython->ipython-autotime) (0.7.5)\n",
            "Requirement already satisfied: traitlets>=4.2 in /usr/local/lib/python3.10/dist-packages (from ipython->ipython-autotime) (5.7.1)\n",
            "Requirement already satisfied: prompt-toolkit!=3.0.0,!=3.0.1,<3.1.0,>=2.0.0 in /usr/local/lib/python3.10/dist-packages (from ipython->ipython-autotime) (3.0.48)\n",
            "Requirement already satisfied: pygments in /usr/local/lib/python3.10/dist-packages (from ipython->ipython-autotime) (2.18.0)\n",
            "Requirement already satisfied: backcall in /usr/local/lib/python3.10/dist-packages (from ipython->ipython-autotime) (0.2.0)\n",
            "Requirement already satisfied: matplotlib-inline in /usr/local/lib/python3.10/dist-packages (from ipython->ipython-autotime) (0.1.7)\n",
            "Requirement already satisfied: pexpect>4.3 in /usr/local/lib/python3.10/dist-packages (from ipython->ipython-autotime) (4.9.0)\n",
            "Requirement already satisfied: parso<0.9.0,>=0.8.3 in /usr/local/lib/python3.10/dist-packages (from jedi>=0.16->ipython->ipython-autotime) (0.8.4)\n",
            "Requirement already satisfied: ptyprocess>=0.5 in /usr/local/lib/python3.10/dist-packages (from pexpect>4.3->ipython->ipython-autotime) (0.7.0)\n",
            "Requirement already satisfied: wcwidth in /usr/local/lib/python3.10/dist-packages (from prompt-toolkit!=3.0.0,!=3.0.1,<3.1.0,>=2.0.0->ipython->ipython-autotime) (0.2.13)\n",
            "Downloading ipython_autotime-0.3.2-py2.py3-none-any.whl (7.0 kB)\n",
            "Downloading jedi-0.19.1-py2.py3-none-any.whl (1.6 MB)\n",
            "\u001b[2K   \u001b[90m━━━━━━━━━━━━━━━━━━━━━━━━━━━━━━━━━━━━━━━━\u001b[0m \u001b[32m1.6/1.6 MB\u001b[0m \u001b[31m65.0 MB/s\u001b[0m eta \u001b[36m0:00:00\u001b[0m\n",
            "\u001b[?25hInstalling collected packages: jedi, ipython-autotime\n",
            "Successfully installed ipython-autotime-0.3.2 jedi-0.19.1\n",
            "time: 258 µs (started: 2024-11-03 09:53:57 +00:00)\n"
          ]
        }
      ],
      "source": [
        "# !pip install ipython-autotime\n",
        "%load_ext autotime"
      ]
    },
    {
      "cell_type": "code",
      "execution_count": 3,
      "metadata": {
        "colab": {
          "base_uri": "https://localhost:8080/"
        },
        "id": "vq8Ft_P5Vuo2",
        "outputId": "e5d9121c-fa31-4af2-8b1b-11ee771544bd"
      },
      "outputs": [
        {
          "output_type": "stream",
          "name": "stdout",
          "text": [
            "time: 426 µs (started: 2024-11-03 09:53:57 +00:00)\n"
          ]
        }
      ],
      "source": [
        "import os\n",
        "os.chdir('/content/MinesweeperLearning')"
      ]
    },
    {
      "cell_type": "code",
      "execution_count": 4,
      "metadata": {
        "colab": {
          "base_uri": "https://localhost:8080/"
        },
        "id": "jOpl5fxmVK2g",
        "outputId": "f9d51e60-6055-45f4-a549-ed0c32218be9"
      },
      "outputs": [
        {
          "output_type": "stream",
          "name": "stdout",
          "text": [
            "time: 3 s (started: 2024-11-03 09:53:57 +00:00)\n"
          ]
        }
      ],
      "source": [
        "import torch\n",
        "import numpy as np\n",
        "\n",
        "import src.utils as utils\n",
        "\n",
        "from torch.utils.data import DataLoader\n",
        "\n",
        "from src.models.patch_mlp import MineSweeperDataset, PatchMLPModel, Game\n",
        "from src.models.unet import UnetModel\n",
        "from src.models.conv import ConvModel\n",
        "from src.player import Player, ThresholdPlayer"
      ]
    },
    {
      "cell_type": "code",
      "execution_count": 5,
      "metadata": {
        "colab": {
          "base_uri": "https://localhost:8080/"
        },
        "id": "6236riM2VK2h",
        "outputId": "7295ae71-617b-4f66-e218-234b268531ad"
      },
      "outputs": [
        {
          "output_type": "stream",
          "name": "stdout",
          "text": [
            "cuda\n",
            "time: 48.4 ms (started: 2024-11-03 09:54:00 +00:00)\n"
          ]
        }
      ],
      "source": [
        "device = (\n",
        "    \"cuda\"\n",
        "    if torch.cuda.is_available()\n",
        "    else \"mps\"\n",
        "    if torch.backends.mps.is_available()\n",
        "    else \"cpu\"\n",
        ")\n",
        "print(device)\n",
        "rng = np.random.default_rng()"
      ]
    },
    {
      "cell_type": "code",
      "execution_count": 143,
      "metadata": {
        "colab": {
          "base_uri": "https://localhost:8080/"
        },
        "id": "DvEBDZHyqJwj",
        "outputId": "ce0b3608-251e-4c6d-b896-12ee731ff65f"
      },
      "outputs": [
        {
          "output_type": "stream",
          "name": "stdout",
          "text": [
            "time: 75.1 ms (started: 2024-11-03 11:53:03 +00:00)\n"
          ]
        }
      ],
      "source": [
        "data = utils.sample(np.load('data/dataset.npy'), 200_000)"
      ]
    },
    {
      "cell_type": "code",
      "execution_count": 144,
      "metadata": {
        "colab": {
          "base_uri": "https://localhost:8080/"
        },
        "id": "zwUN9xyoJt0i",
        "outputId": "ed0a8906-d102-4658-f985-edb8a23f21b1"
      },
      "outputs": [
        {
          "output_type": "stream",
          "name": "stdout",
          "text": [
            "time: 315 µs (started: 2024-11-03 11:53:03 +00:00)\n"
          ]
        }
      ],
      "source": [
        "model_type = 'conv'"
      ]
    },
    {
      "cell_type": "code",
      "execution_count": null,
      "metadata": {
        "id": "gojmCqYfmDh8"
      },
      "outputs": [],
      "source": [
        "if model_type == 'patch_mlp':\n",
        "    patch_radius = 3\n",
        "    d = 2*patch_radius+1\n",
        "    layers= [2**i for i in range(10, 0, -1)]\n",
        "    name = f'patch_mlp_{d}x{d}_{layers[0]}'\n",
        "    print(name)\n",
        "\n",
        "    model = PatchMLPModel(\n",
        "        patch_radius,\n",
        "        layers,\n",
        "        device=device)\n",
        "    transform = model.transform\n",
        "    weights = None\n",
        "    dataset = MineSweeperDataset(data, transform, weights)"
      ]
    },
    {
      "cell_type": "code",
      "execution_count": 145,
      "metadata": {
        "colab": {
          "base_uri": "https://localhost:8080/"
        },
        "id": "3jSTrsDpJt0j",
        "outputId": "a824af10-ff9e-46d4-e63e-e423797059f0"
      },
      "outputs": [
        {
          "output_type": "stream",
          "name": "stdout",
          "text": [
            "conv_5x5_128\n",
            "time: 625 ms (started: 2024-11-03 11:53:06 +00:00)\n"
          ]
        }
      ],
      "source": [
        "if model_type == 'conv':\n",
        "    r, c = (16, 30)\n",
        "    kernel_radius = 2\n",
        "    k = 2*kernel_radius+1\n",
        "    layers= [2**i for i in range(7, 0, -1)]\n",
        "    name = f'conv_{k}x{k}_{layers[0]}'\n",
        "    print(name)\n",
        "\n",
        "    model = ConvModel(\n",
        "        kernel_radius,\n",
        "        layers,\n",
        "        device=device)\n",
        "    transform = model.transform\n",
        "    weights = ((data == 9) | (data == -1)).view(np.int8)\n",
        "    dataset = MineSweeperDataset(data, transform, weights)"
      ]
    },
    {
      "cell_type": "code",
      "execution_count": 58,
      "metadata": {
        "colab": {
          "base_uri": "https://localhost:8080/"
        },
        "id": "Wnz0aDzQJt0j",
        "outputId": "340f3287-d9fa-4778-f66c-dabeb03e1ec9"
      },
      "outputs": [
        {
          "output_type": "stream",
          "name": "stdout",
          "text": [
            "unet_16x30_64\n",
            "time: 631 ms (started: 2024-11-03 10:30:32 +00:00)\n"
          ]
        }
      ],
      "source": [
        "if model_type == 'unet':\n",
        "    r, c, m = (16, 30, 99)\n",
        "    decoder_shapes = [(128, 16, 30), (256, 8, 15), (512, 4, 7)]\n",
        "    name = f'unet_{r}x{c}_{decoder_shapes[0][0]}'\n",
        "    print(name)\n",
        "\n",
        "    model = UnetModel(\n",
        "        map_size=(r, c),\n",
        "        decoder_shapes=decoder_shapes,\n",
        "        device=device)\n",
        "    transform = model.transform\n",
        "    weights = ((data == 9) | (data == -1)).view(np.int8)\n",
        "    dataset = MineSweeperDataset(data, transform, weights)"
      ]
    },
    {
      "cell_type": "code",
      "execution_count": 146,
      "metadata": {
        "colab": {
          "base_uri": "https://localhost:8080/"
        },
        "id": "ZzFDddBwVK2i",
        "outputId": "15598b87-a74e-406b-cc9d-9aad1e40ce32"
      },
      "outputs": [
        {
          "output_type": "stream",
          "name": "stdout",
          "text": [
            "time: 15.2 ms (started: 2024-11-03 11:53:11 +00:00)\n"
          ]
        }
      ],
      "source": [
        "batch_size = 128\n",
        "training_data, test_data = torch.utils.data.random_split(dataset, (0.95, 0.05))\n",
        "train_dataloader = DataLoader(training_data, batch_size, num_workers=4, pin_memory=True)\n",
        "test_dataloader = DataLoader(training_data, batch_size, num_workers=4, pin_memory=True)\n",
        "player = ThresholdPlayer(model, 0.01, 0.95)\n",
        "optimizer = torch.optim.Adam(model.model.parameters(), lr=0.001)"
      ]
    },
    {
      "cell_type": "code",
      "execution_count": 147,
      "metadata": {
        "colab": {
          "base_uri": "https://localhost:8080/"
        },
        "id": "Z9fyS9I01IfO",
        "outputId": "99c6c5ac-185d-41e9-ec99-def096ac3e66"
      },
      "outputs": [
        {
          "output_type": "stream",
          "name": "stdout",
          "text": [
            "time: 12.4 ms (started: 2024-11-03 11:53:12 +00:00)\n"
          ]
        }
      ],
      "source": [
        "test_games = Game(n = 500)\n",
        "zeros = test_games.open_zero()"
      ]
    },
    {
      "cell_type": "code",
      "execution_count": 148,
      "metadata": {
        "colab": {
          "base_uri": "https://localhost:8080/"
        },
        "id": "p7AD38_XA0U5",
        "outputId": "128dc0f5-28ef-49c9-e487-5febdfd19ce5"
      },
      "outputs": [
        {
          "output_type": "stream",
          "name": "stdout",
          "text": [
            "time: 583 µs (started: 2024-11-03 11:53:16 +00:00)\n"
          ]
        }
      ],
      "source": [
        "train_loss = []\n",
        "test_loss = []\n",
        "win_rate = []\n",
        "\n",
        "stop_if_no_max_after = -1\n",
        "max_win_rate, argmax_t = 0, 0"
      ]
    },
    {
      "cell_type": "code",
      "execution_count": 149,
      "metadata": {
        "colab": {
          "base_uri": "https://localhost:8080/"
        },
        "id": "EJX3QPFpVK2j",
        "outputId": "b931bb89-1407-4932-f564-f6b60bf48fa1"
      },
      "outputs": [
        {
          "output_type": "stream",
          "name": "stdout",
          "text": [
            "Epoch 1\n",
            "-------------------------------\n",
            "win rate: 0.296\n",
            "Epoch 2\n",
            "-------------------------------\n",
            "win rate: 0.392\n",
            "Epoch 3\n",
            "-------------------------------\n",
            "win rate: 0.442\n",
            "Epoch 4\n",
            "-------------------------------\n",
            "win rate: 0.418\n",
            "Epoch 5\n",
            "-------------------------------\n",
            "win rate: 0.424\n",
            "Epoch 6\n",
            "-------------------------------\n",
            "win rate: 0.474\n",
            "Epoch 7\n",
            "-------------------------------\n",
            "win rate: 0.428\n",
            "Epoch 8\n",
            "-------------------------------\n",
            "win rate: 0.404\n",
            "Epoch 9\n",
            "-------------------------------\n",
            "win rate: 0.392\n",
            "Epoch 10\n",
            "-------------------------------\n",
            "win rate: 0.384\n",
            "time: 7min 27s (started: 2024-11-03 11:53:20 +00:00)\n"
          ]
        }
      ],
      "source": [
        "epochs = 10\n",
        "for t in range(epochs):\n",
        "    print(f\"Epoch {t+1}\\n-------------------------------\")\n",
        "    train_loss.append(model.train(train_dataloader, optimizer))\n",
        "    player.play(test_games)\n",
        "    win_rate.append(test_games.win_rate())\n",
        "    print(f\"win rate: {win_rate[-1]}\")\n",
        "    test_games.reset()\n",
        "    test_games.move(zeros)\n",
        "    test_loss.append(model.test(test_dataloader))\n",
        "    if win_rate[-1] > max_win_rate:\n",
        "      model.save(os.path.join('weights', name + '_max.pth'))\n",
        "      max_win_rate = win_rate[-1]\n",
        "    if win_rate[-1] > max_win_rate - 0.01:\n",
        "      argmax_t = t\n",
        "    elif stop_if_no_max_after > 0 and t - argmax_t >= stop_if_no_max_after:\n",
        "        break"
      ]
    },
    {
      "cell_type": "code",
      "execution_count": 150,
      "metadata": {
        "colab": {
          "base_uri": "https://localhost:8080/",
          "height": 537
        },
        "id": "sEDg-Qj14Snk",
        "outputId": "9545a2bd-8ba3-45ba-8027-d9d08a9e90f4"
      },
      "outputs": [
        {
          "output_type": "display_data",
          "data": {
            "text/plain": [
              "<Figure size 640x480 with 2 Axes>"
            ],
            "image/png": "[encoded data removed]"
          },
          "metadata": {}
        },
        {
          "output_type": "stream",
          "name": "stdout",
          "text": [
            "time: 277 ms (started: 2024-11-03 12:00:48 +00:00)\n"
          ]
        }
      ],
      "source": [
        "import matplotlib.pyplot as plt\n",
        "\n",
        "fig, ax1 = plt.subplots()\n",
        "ax1.set_xlabel('epoch')\n",
        "\n",
        "ax1.plot(train_loss, color='tab:red', label = 'train')\n",
        "ax1.plot(test_loss, color='tab:orange', label = 'test')\n",
        "\n",
        "ax2 = ax1.twinx()  # instantiate a second Axes that shares the same x-axis\n",
        "\n",
        "color = 'tab:blue'\n",
        "ax2.plot(win_rate, color=color, label = 'win rate')\n",
        "\n",
        "fig.legend(loc=\"upper right\")\n",
        "plt.show()"
      ]
    },
    {
      "cell_type": "code",
      "execution_count": 151,
      "metadata": {
        "colab": {
          "base_uri": "https://localhost:8080/"
        },
        "id": "AYlTMDEumDh9",
        "outputId": "225921b8-5cbe-474a-8243-afc4520d38fd"
      },
      "outputs": [
        {
          "output_type": "stream",
          "name": "stdout",
          "text": [
            "time: 31.1 ms (started: 2024-11-03 12:00:56 +00:00)\n"
          ]
        }
      ],
      "source": [
        "model.save(os.path.join('weights', name + '.pth'))\n",
        "torch.save(optimizer.state_dict(), os.path.join('weights', name + '.opt'))"
      ]
    },
    {
      "cell_type": "code",
      "execution_count": 152,
      "metadata": {
        "colab": {
          "base_uri": "https://localhost:8080/"
        },
        "id": "_TANlIubQaAj",
        "outputId": "24537f8a-f18b-4f00-bd89-f956fdd3d866"
      },
      "outputs": [
        {
          "output_type": "stream",
          "name": "stdout",
          "text": [
            "time: 38.9 ms (started: 2024-11-03 12:00:57 +00:00)\n"
          ]
        }
      ],
      "source": [
        "model_reference = ConvModel.load('weights/conv_5x5_128_max.pth', device)\n",
        "player_reference = ThresholdPlayer(model_reference, 0.01, 0.99)\n",
        "test_player = ThresholdPlayer(model, 0.01, 0.99)"
      ]
    },
    {
      "cell_type": "code",
      "execution_count": 153,
      "metadata": {
        "colab": {
          "base_uri": "https://localhost:8080/"
        },
        "id": "8RlP928MQgzn",
        "outputId": "3c73b7d2-4416-4e52-e71b-b0c76dedda4d"
      },
      "outputs": [
        {
          "output_type": "stream",
          "name": "stdout",
          "text": [
            "player_reference: average score: 0.8704868766404201\n",
            "\twin rate: 0.4401\n",
            "time: 1min 1s (started: 2024-11-03 12:00:58 +00:00)\n"
          ]
        }
      ],
      "source": [
        "games = Game(16, 30, 99, 20000)\n",
        "z = games.open_zero()\n",
        "player_reference.play(games)\n",
        "print(f'player_reference: average score: {np.average(games.scores(final_only=True))}')\n",
        "print(f'\\twin rate: {games.win_rate()}')\n",
        "reference_won = games.won.copy()"
      ]
    },
    {
      "cell_type": "code",
      "execution_count": null,
      "metadata": {
        "id": "E96uv2lrQ2V5"
      },
      "outputs": [],
      "source": [
        "# 0.44305\n",
        "games.reset()\n",
        "games.move(z)\n",
        "test_player.play(games)\n",
        "print(f'test_player: average score: {np.average(games.scores(final_only=True))}')\n",
        "print(f'\\twin rate: {games.win_rate()}')"
      ]
    },
    {
      "cell_type": "code",
      "execution_count": 49,
      "metadata": {
        "colab": {
          "base_uri": "https://localhost:8080/"
        },
        "id": "FYRT1Ko0H2UC",
        "outputId": "b86af6c6-7fa7-4641-b6d5-0b6d36f98898"
      },
      "outputs": [
        {
          "output_type": "stream",
          "name": "stdout",
          "text": [
            "Playing games\n",
            "Computing weights\n",
            "Epoch 1\n",
            "-------------------------------\n",
            "0.384\n",
            "time: 1min 59s (started: 2024-11-03 10:26:31 +00:00)\n"
          ]
        }
      ],
      "source": [
        "reinforce_iterations = 1\n",
        "epochs = 1\n",
        "base_size, reinforce_size = 10_000, 10_000\n",
        "losing_move_weight = 2\n",
        "for i in range(reinforce_iterations):\n",
        "  base = utils.sample(data, base_size)\n",
        "  games = Game(16, 30, rng.normal(99, 30, reinforce_size*3).astype(int).clip(40, 160), reinforce_size*3)\n",
        "  games.open_zero()\n",
        "  print(\"Playing games\")\n",
        "  player.play(games)\n",
        "  print(\"Computing weights\")\n",
        "  lost_idx = np.logical_not(games.won)\n",
        "  lost = games.as_dataset()[lost_idx]\n",
        "  data = np.concatenate([base, lost])\n",
        "  base_weights = ((base == 9) | (base == -1)).view(np.int8)\n",
        "  losing_weights = ((lost == 9) | (lost == -1)).view(np.int8)*(np.abs(games.losing_moves()[lost_idx])*losing_move_weight)\n",
        "  weights = np.concatenate([base_weights, losing_weights])\n",
        "  train_data = MineSweeperDataset(data, transform, weights)\n",
        "  train_dataloader = DataLoader(train_data, batch_size, num_workers=4, pin_memory=True, shuffle=True)\n",
        "  for t in range(epochs):\n",
        "      print(f\"Epoch {t+1}\\n-------------------------------\")\n",
        "      train_loss.append(model.train(train_dataloader, optimizer))\n",
        "      player.play(test_games)\n",
        "      win_rate.append(test_games.win_rate())\n",
        "      print(win_rate[-1])\n",
        "      test_games.reset()\n",
        "      test_games.move(zeros)\n",
        "      test_loss.append(model.test(test_dataloader))"
      ]
    },
    {
      "cell_type": "code",
      "execution_count": 45,
      "metadata": {
        "colab": {
          "base_uri": "https://localhost:8080/",
          "height": 537
        },
        "id": "yIiWKuj-MSzk",
        "outputId": "fb1ec3dd-f0d0-4889-dad8-f2e6b7db336d"
      },
      "outputs": [
        {
          "output_type": "display_data",
          "data": {
            "text/plain": [
              "<Figure size 640x480 with 2 Axes>"
            ],
            "image/png": "[encoded data removed]"
          },
          "metadata": {}
        },
        {
          "output_type": "stream",
          "name": "stdout",
          "text": [
            "time: 266 ms (started: 2024-11-03 10:22:06 +00:00)\n"
          ]
        }
      ],
      "source": [
        "fig, ax1 = plt.subplots()\n",
        "ax1.set_xlabel('epoch')\n",
        "\n",
        "ax1.plot(train_loss, color='tab:red', label = 'train')\n",
        "ax1.plot(test_loss, color='tab:orange', label = 'test')\n",
        "\n",
        "ax2 = ax1.twinx()  # instantiate a second Axes that shares the same x-axis\n",
        "\n",
        "color = 'tab:blue'\n",
        "ax2.plot(win_rate, color=color, label = 'win rate')\n",
        "\n",
        "fig.legend(loc=\"upper right\")\n",
        "plt.show()"
      ]
    },
    {
      "cell_type": "code",
      "execution_count": 46,
      "metadata": {
        "colab": {
          "base_uri": "https://localhost:8080/"
        },
        "id": "iHqvA67YMWqM",
        "outputId": "6d11636f-aca4-4931-9565-27363b617cc2"
      },
      "outputs": [
        {
          "output_type": "stream",
          "name": "stdout",
          "text": [
            "time: 28.3 ms (started: 2024-11-03 10:22:53 +00:00)\n"
          ]
        }
      ],
      "source": [
        "model.save(os.path.join('weights', name + '_reinforced.pth'))\n",
        "torch.save(optimizer.state_dict(), os.path.join('weights', name + '_reinforced.opt'))"
      ]
    },
    {
      "cell_type": "code",
      "execution_count": 47,
      "metadata": {
        "colab": {
          "base_uri": "https://localhost:8080/"
        },
        "id": "cNUbCOpCleSS",
        "outputId": "5241965a-b575-4b9f-f569-c3a6795c9880"
      },
      "outputs": [
        {
          "output_type": "stream",
          "name": "stdout",
          "text": [
            "player_reference: average score: 0.873263254593176\n",
            "\twin rate: 0.4369\n",
            "time: 35.8 s (started: 2024-11-03 10:22:54 +00:00)\n"
          ]
        }
      ],
      "source": [
        "games = Game(16, 30, 99, 10000)\n",
        "z = games.open_zero()\n",
        "player_reference.play(games)\n",
        "print(f'player_reference: average score: {np.average(games.scores(final_only=True))}')\n",
        "print(f'\\twin rate: {games.win_rate()}')\n",
        "reference_won = games.won.copy()"
      ]
    },
    {
      "cell_type": "code",
      "execution_count": 48,
      "metadata": {
        "colab": {
          "base_uri": "https://localhost:8080/"
        },
        "id": "QdGHFc9LQmpY",
        "outputId": "77f40668-1e5b-41ae-aae0-d520b85479c2"
      },
      "outputs": [
        {
          "output_type": "stream",
          "name": "stdout",
          "text": [
            "test_player: average score: 0.8428220472440944\n",
            "\twin rate: 0.405\n",
            "time: 40.8 s (started: 2024-11-03 10:23:30 +00:00)\n"
          ]
        }
      ],
      "source": [
        "games.reset()\n",
        "games.move(z)\n",
        "test_player.play(games)\n",
        "print(f'test_player: average score: {np.average(games.scores(final_only=True))}')\n",
        "print(f'\\twin rate: {games.win_rate()}')"
      ]
    }
  ],
  "metadata": {
    "accelerator": "GPU",
    "colab": {
      "gpuType": "L4",
      "provenance": []
    },
    "kernelspec": {
      "display_name": "torch",
      "language": "python",
      "name": "python3"
    },
    "language_info": {
      "codemirror_mode": {
        "name": "ipython",
        "version": 3
      },
      "file_extension": ".py",
      "mimetype": "text/x-python",
      "name": "python",
      "nbconvert_exporter": "python",
      "pygments_lexer": "ipython3",
      "version": "3.12.6"
    }
  },
  "nbformat": 4,
  "nbformat_minor": 0
}