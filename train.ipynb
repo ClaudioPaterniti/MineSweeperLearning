{
  "cells": [
    {
      "cell_type": "code",
      "execution_count": 1,
      "metadata": {
        "id": "8F9ymaFAVcdD"
      },
      "outputs": [],
      "source": [
        "# ! git clone https://github.com/ClaudioPaterniti/MinesweeperLearning.git"
      ]
    },
    {
      "cell_type": "code",
      "execution_count": 2,
      "metadata": {
        "id": "vq8Ft_P5Vuo2"
      },
      "outputs": [],
      "source": [
        "# ! pip install plotly-express"
      ]
    },
    {
      "cell_type": "code",
      "execution_count": 3,
      "metadata": {
        "id": "ndyXfW-jVhfX"
      },
      "outputs": [],
      "source": [
        "import os\n",
        "os.chdir('/content/MinesweeperLearning')"
      ]
    },
    {
      "cell_type": "code",
      "execution_count": 1,
      "metadata": {
        "id": "jOpl5fxmVK2g"
      },
      "outputs": [],
      "source": [
        "import torch\n",
        "import numpy as np\n",
        "from torch.utils.data import DataLoader\n",
        "from src.model import MineSweeperDataset, PatchMLPModel, OnHotEncodingTransform, Game\n",
        "from src.player import ThresholdPlayer"
      ]
    },
    {
      "cell_type": "code",
      "execution_count": 5,
      "metadata": {
        "colab": {
          "base_uri": "https://localhost:8080/"
        },
        "id": "6236riM2VK2h",
        "outputId": "09d0f6b9-79dd-4447-fbd1-e3e180ccd3ed"
      },
      "outputs": [
        {
          "name": "stdout",
          "output_type": "stream",
          "text": [
            "cuda\n"
          ]
        }
      ],
      "source": [
        "device = (\n",
        "    \"cuda\"\n",
        "    if torch.cuda.is_available()\n",
        "    else \"mps\"\n",
        "    if torch.backends.mps.is_available()\n",
        "    else \"cpu\"\n",
        ")\n",
        "print(device)"
      ]
    },
    {
      "cell_type": "code",
      "execution_count": 6,
      "metadata": {
        "id": "yQB7fhmpVK2h"
      },
      "outputs": [],
      "source": [
        "train = Game(16, 30, 99, n = 10000)\n",
        "train.random_open(0.3)\n",
        "train.random_flags(0.3)\n",
        "test = Game(n = 100)\n",
        "test.random_open(0.3)\n",
        "test.random_flags(0.3)"
      ]
    },
    {
      "cell_type": "code",
      "execution_count": 7,
      "metadata": {
        "id": "ZzFDddBwVK2i"
      },
      "outputs": [],
      "source": [
        "patch_radius = 3\n",
        "name = f'patch_mlp_7x7_256_halving'\n",
        "transform = OnHotEncodingTransform(patch_radius)\n",
        "training_data = MineSweeperDataset(train, transform, losing_moves_weight=10)\n",
        "test_data = MineSweeperDataset(test, transform)\n",
        "train_dataloader = DataLoader(training_data, batch_size=64)\n",
        "test_dataloader = DataLoader(test_data, batch_size=64)\n",
        "model = PatchMLPModel(patch_radius, layers=[2**i for i in range(8, 0, -1)], device=device)\n",
        "player = ThresholdPlayer(model, 0.05, 0.95)\n",
        "optimizer = torch.optim.Adam(model.model.parameters(), lr=0.001)"
      ]
    },
    {
      "cell_type": "code",
      "execution_count": 8,
      "metadata": {
        "colab": {
          "base_uri": "https://localhost:8080/"
        },
        "id": "EJX3QPFpVK2j",
        "outputId": "ce19310c-3b69-44f9-bd78-89e0a701f26d"
      },
      "outputs": [
        {
          "name": "stdout",
          "output_type": "stream",
          "text": [
            "Epoch 1\n",
            "-------------------------------\n",
            "Epoch 2\n",
            "-------------------------------\n",
            "Epoch 3\n",
            "-------------------------------\n",
            "Epoch 4\n",
            "-------------------------------\n",
            "Epoch 5\n",
            "-------------------------------\n"
          ]
        }
      ],
      "source": [
        "epochs = 5\n",
        "for t in range(epochs):\n",
        "    print(f\"Epoch {t+1}\\n-------------------------------\")\n",
        "    model.train(train_dataloader, optimizer)\n",
        "    model.test(test_dataloader)"
      ]
    },
    {
      "cell_type": "code",
      "execution_count": null,
      "metadata": {
        "colab": {
          "base_uri": "https://localhost:8080/"
        },
        "id": "4VU74w8XVK2j",
        "outputId": "4b793df8-2ec4-4a2d-f617-3e3e2aa8d0e9"
      },
      "outputs": [
        {
          "name": "stdout",
          "output_type": "stream",
          "text": [
            "step 1\n",
            "step 2\n",
            "step 3\n",
            "step 4\n",
            "step 5\n",
            "step 6\n",
            "step 7\n",
            "step 8\n",
            "step 9\n",
            "step 10\n",
            "step 11\n",
            "step 12\n",
            "step 13\n",
            "step 14\n",
            "step 15\n",
            "step 16\n",
            "step 17\n",
            "step 18\n",
            "step 19\n",
            "step 20\n",
            "step 21\n",
            "step 22\n",
            "step 23\n",
            "step 24\n",
            "step 25\n",
            "step 26\n",
            "step 27\n",
            "step 28\n",
            "step 29\n",
            "step 30\n",
            "step 31\n",
            "step 32\n",
            "step 33\n",
            "Epoch 1\n",
            "-------------------------------\n",
            "Epoch 2\n",
            "-------------------------------\n",
            "step 1\n",
            "step 2\n",
            "step 3\n",
            "step 4\n",
            "step 5\n",
            "step 6\n",
            "step 7\n",
            "step 8\n",
            "step 9\n",
            "step 10\n",
            "step 11\n",
            "step 12\n",
            "step 13\n",
            "step 14\n",
            "step 15\n",
            "step 16\n",
            "step 17\n",
            "step 18\n",
            "step 19\n",
            "step 20\n",
            "step 21\n",
            "step 22\n",
            "step 23\n",
            "step 24\n",
            "step 25\n",
            "step 26\n",
            "step 27\n",
            "step 28\n",
            "step 29\n",
            "step 30\n",
            "step 31\n",
            "step 32\n",
            "step 33\n",
            "step 34\n",
            "step 35\n",
            "step 36\n",
            "step 37\n",
            "step 38\n",
            "step 39\n",
            "step 40\n",
            "step 41\n",
            "step 42\n",
            "step 43\n",
            "step 44\n",
            "step 45\n",
            "step 46\n",
            "step 47\n",
            "step 48\n",
            "step 49\n",
            "step 50\n",
            "step 51\n",
            "step 52\n",
            "step 53\n",
            "step 54\n",
            "step 55\n",
            "step 56\n",
            "step 57\n",
            "step 58\n",
            "step 59\n",
            "step 60\n",
            "step 61\n",
            "Epoch 1\n",
            "-------------------------------\n",
            "Epoch 2\n",
            "-------------------------------\n",
            "step 1\n",
            "step 2\n",
            "step 3\n",
            "step 4\n",
            "step 5\n",
            "step 6\n",
            "step 7\n",
            "step 8\n",
            "step 9\n",
            "step 10\n",
            "step 11\n",
            "step 12\n",
            "step 13\n",
            "step 14\n",
            "step 15\n",
            "step 16\n",
            "step 17\n",
            "step 18\n",
            "step 19\n",
            "step 20\n",
            "step 21\n",
            "step 22\n",
            "step 23\n",
            "step 24\n",
            "step 25\n",
            "step 26\n",
            "step 27\n",
            "step 28\n",
            "step 29\n",
            "step 30\n",
            "step 31\n",
            "step 32\n",
            "step 33\n",
            "step 34\n",
            "step 35\n",
            "step 36\n",
            "step 37\n",
            "step 38\n",
            "step 39\n",
            "Epoch 1\n",
            "-------------------------------\n",
            "Epoch 2\n",
            "-------------------------------\n",
            "step 1\n",
            "step 2\n",
            "step 3\n",
            "step 4\n",
            "step 5\n",
            "step 6\n",
            "step 7\n",
            "step 8\n",
            "step 9\n",
            "step 10\n",
            "step 11\n",
            "step 12\n",
            "step 13\n",
            "step 14\n",
            "step 15\n",
            "step 16\n",
            "step 17\n",
            "step 18\n",
            "step 19\n",
            "step 20\n",
            "step 21\n",
            "step 22\n",
            "step 23\n",
            "step 24\n",
            "step 25\n",
            "step 26\n",
            "step 27\n",
            "step 28\n",
            "step 29\n",
            "step 30\n",
            "step 31\n",
            "step 32\n",
            "step 33\n",
            "step 34\n",
            "step 35\n",
            "step 36\n",
            "step 37\n",
            "step 38\n",
            "step 39\n",
            "step 40\n",
            "step 41\n",
            "step 42\n",
            "step 43\n",
            "step 44\n",
            "Epoch 1\n",
            "-------------------------------\n",
            "Epoch 2\n",
            "-------------------------------\n",
            "step 1\n",
            "step 2\n",
            "step 3\n",
            "step 4\n",
            "step 5\n",
            "step 6\n",
            "step 7\n",
            "step 8\n",
            "step 9\n",
            "step 10\n",
            "step 11\n",
            "step 12\n",
            "step 13\n",
            "step 14\n",
            "step 15\n",
            "step 16\n",
            "step 17\n",
            "step 18\n",
            "step 19\n",
            "step 20\n",
            "step 21\n",
            "step 22\n",
            "step 23\n",
            "step 24\n",
            "step 25\n",
            "step 26\n",
            "step 27\n",
            "step 28\n",
            "step 29\n",
            "step 30\n",
            "step 31\n",
            "step 32\n",
            "step 33\n",
            "step 34\n",
            "step 35\n",
            "step 36\n",
            "step 37\n",
            "step 38\n",
            "step 39\n",
            "Epoch 1\n",
            "-------------------------------\n"
          ]
        }
      ],
      "source": [
        "reinforcing_iterations = 10\n",
        "epochs = 2\n",
        "for i in range(reinforcing_iterations):\n",
        "    games = Game(16, 30, 99, n = 1000)\n",
        "    games.random_open(0.3)\n",
        "    player.play(games)\n",
        "    print(f'average score: {np.average(games.score())}')\n",
        "    training_data.mix(games)\n",
        "    train_dataloader = DataLoader(training_data, batch_size=64)\n",
        "    for t in range(epochs):\n",
        "        print(f\"Epoch {t+1}\\n-------------------------------\")\n",
        "        model.train(train_dataloader, optimizer)\n",
        "        model.test(test_dataloader)"
      ]
    },
    {
      "cell_type": "code",
      "execution_count": 10,
      "metadata": {
        "id": "yrbNbtpSVK2j"
      },
      "outputs": [],
      "source": [
        "model.save(os.path.join('weights', name + '.pth'))"
      ]
    },
    {
      "cell_type": "code",
      "execution_count": 11,
      "metadata": {
        "colab": {
          "base_uri": "https://localhost:8080/",
          "height": 542
        },
        "id": "_e3sKHQEVK2j",
        "outputId": "ca6346d0-bc09-4952-b94d-d0559f4f2cb3"
      },
      "outputs": [
        {
          "data": {
            "text/html": [
              "<html>\n",
              "<head><meta charset=\"utf-8\" /></head>\n",
              "<body>\n",
              "    <div>            <script src=\"https://cdnjs.cloudflare.com/ajax/libs/mathjax/2.7.5/MathJax.js?config=TeX-AMS-MML_SVG\"></script><script type=\"text/javascript\">if (window.MathJax && window.MathJax.Hub && window.MathJax.Hub.Config) {window.MathJax.Hub.Config({SVG: {font: \"STIX-Web\"}});}</script>                <script type=\"text/javascript\">window.PlotlyConfig = {MathJaxConfig: 'local'};</script>\n",
              "        <script charset=\"utf-8\" src=\"https://cdn.plot.ly/plotly-2.35.2.min.js\"></script>                <div id=\"cf83c348-3ac6-4522-b7fe-8d8aee828c63\" class=\"plotly-graph-div\" style=\"height:525px; width:100%;\"></div>            <script type=\"text/javascript\">                                    window.PLOTLYENV=window.PLOTLYENV || {};                                    if (document.getElementById(\"cf83c348-3ac6-4522-b7fe-8d8aee828c63\")) {                    Plotly.newPlot(                        \"cf83c348-3ac6-4522-b7fe-8d8aee828c63\",                        [{\"hovertemplate\":\"variable=train\\u003cbr\\u003eindex=%{x}\\u003cbr\\u003evalue=%{y}\\u003cextra\\u003e\\u003c\\u002fextra\\u003e\",\"legendgroup\":\"train\",\"line\":{\"color\":\"#636efa\",\"dash\":\"solid\"},\"marker\":{\"symbol\":\"circle\"},\"mode\":\"lines\",\"name\":\"train\",\"orientation\":\"v\",\"showlegend\":true,\"x\":[0,1,2,3,4,5,6,7,8,9,10,11,12,13,14,15,16,17,18,19,20,21,22,23,24],\"xaxis\":\"x\",\"y\":[0.5429786766410634,0.4225209287017774,0.40080005082355186,0.38862264972583505,0.37814695212491756,0.37177612333540705,0.3689264040084402,0.36281045568976433,0.3595754813616443,0.3515892131313397,0.34511938235562317,0.337413883133299,0.33389016549298717,0.3275103037524375,0.32276778350210494,0.31346881484529776,0.31019190314469064,0.30519359525601575,0.30002071466415553,0.29365204635319436,0.29027130478506635,0.2818164074686682,0.28035831071768597,0.2704331068096647,0.2659450639395197],\"yaxis\":\"y\",\"type\":\"scatter\"},{\"hovertemplate\":\"variable=test\\u003cbr\\u003eindex=%{x}\\u003cbr\\u003evalue=%{y}\\u003cextra\\u003e\\u003c\\u002fextra\\u003e\",\"legendgroup\":\"test\",\"line\":{\"color\":\"#EF553B\",\"dash\":\"solid\"},\"marker\":{\"symbol\":\"circle\"},\"mode\":\"lines\",\"name\":\"test\",\"orientation\":\"v\",\"showlegend\":true,\"x\":[0,1,2,3,4,5,6,7,8,9,10,11,12,13,14,15,16,17,18,19,20,21,22,23,24],\"xaxis\":\"x\",\"y\":[0.3721875697374344,0.2982308119535446,0.2738226056098938,0.2690596729516983,0.2565135210752487,0.2782839387655258,0.2798798680305481,0.2938361316919327,0.274062916636467,0.2593447417020798,0.2602147161960602,0.2623661756515503,0.2523847967386246,0.24589034914970398,0.24788640439510345,0.2678643614053726,0.255785197019577,0.23752466589212418,0.23573487997055054,0.25586727261543274,0.24647854268550873,0.24154838174581528,0.23622316867113113,0.23571602255105972,0.23317885398864746],\"yaxis\":\"y\",\"type\":\"scatter\"}],                        {\"template\":{\"data\":{\"histogram2dcontour\":[{\"type\":\"histogram2dcontour\",\"colorbar\":{\"outlinewidth\":0,\"ticks\":\"\"},\"colorscale\":[[0.0,\"#0d0887\"],[0.1111111111111111,\"#46039f\"],[0.2222222222222222,\"#7201a8\"],[0.3333333333333333,\"#9c179e\"],[0.4444444444444444,\"#bd3786\"],[0.5555555555555556,\"#d8576b\"],[0.6666666666666666,\"#ed7953\"],[0.7777777777777778,\"#fb9f3a\"],[0.8888888888888888,\"#fdca26\"],[1.0,\"#f0f921\"]]}],\"choropleth\":[{\"type\":\"choropleth\",\"colorbar\":{\"outlinewidth\":0,\"ticks\":\"\"}}],\"histogram2d\":[{\"type\":\"histogram2d\",\"colorbar\":{\"outlinewidth\":0,\"ticks\":\"\"},\"colorscale\":[[0.0,\"#0d0887\"],[0.1111111111111111,\"#46039f\"],[0.2222222222222222,\"#7201a8\"],[0.3333333333333333,\"#9c179e\"],[0.4444444444444444,\"#bd3786\"],[0.5555555555555556,\"#d8576b\"],[0.6666666666666666,\"#ed7953\"],[0.7777777777777778,\"#fb9f3a\"],[0.8888888888888888,\"#fdca26\"],[1.0,\"#f0f921\"]]}],\"heatmap\":[{\"type\":\"heatmap\",\"colorbar\":{\"outlinewidth\":0,\"ticks\":\"\"},\"colorscale\":[[0.0,\"#0d0887\"],[0.1111111111111111,\"#46039f\"],[0.2222222222222222,\"#7201a8\"],[0.3333333333333333,\"#9c179e\"],[0.4444444444444444,\"#bd3786\"],[0.5555555555555556,\"#d8576b\"],[0.6666666666666666,\"#ed7953\"],[0.7777777777777778,\"#fb9f3a\"],[0.8888888888888888,\"#fdca26\"],[1.0,\"#f0f921\"]]}],\"heatmapgl\":[{\"type\":\"heatmapgl\",\"colorbar\":{\"outlinewidth\":0,\"ticks\":\"\"},\"colorscale\":[[0.0,\"#0d0887\"],[0.1111111111111111,\"#46039f\"],[0.2222222222222222,\"#7201a8\"],[0.3333333333333333,\"#9c179e\"],[0.4444444444444444,\"#bd3786\"],[0.5555555555555556,\"#d8576b\"],[0.6666666666666666,\"#ed7953\"],[0.7777777777777778,\"#fb9f3a\"],[0.8888888888888888,\"#fdca26\"],[1.0,\"#f0f921\"]]}],\"contourcarpet\":[{\"type\":\"contourcarpet\",\"colorbar\":{\"outlinewidth\":0,\"ticks\":\"\"}}],\"contour\":[{\"type\":\"contour\",\"colorbar\":{\"outlinewidth\":0,\"ticks\":\"\"},\"colorscale\":[[0.0,\"#0d0887\"],[0.1111111111111111,\"#46039f\"],[0.2222222222222222,\"#7201a8\"],[0.3333333333333333,\"#9c179e\"],[0.4444444444444444,\"#bd3786\"],[0.5555555555555556,\"#d8576b\"],[0.6666666666666666,\"#ed7953\"],[0.7777777777777778,\"#fb9f3a\"],[0.8888888888888888,\"#fdca26\"],[1.0,\"#f0f921\"]]}],\"surface\":[{\"type\":\"surface\",\"colorbar\":{\"outlinewidth\":0,\"ticks\":\"\"},\"colorscale\":[[0.0,\"#0d0887\"],[0.1111111111111111,\"#46039f\"],[0.2222222222222222,\"#7201a8\"],[0.3333333333333333,\"#9c179e\"],[0.4444444444444444,\"#bd3786\"],[0.5555555555555556,\"#d8576b\"],[0.6666666666666666,\"#ed7953\"],[0.7777777777777778,\"#fb9f3a\"],[0.8888888888888888,\"#fdca26\"],[1.0,\"#f0f921\"]]}],\"mesh3d\":[{\"type\":\"mesh3d\",\"colorbar\":{\"outlinewidth\":0,\"ticks\":\"\"}}],\"scatter\":[{\"fillpattern\":{\"fillmode\":\"overlay\",\"size\":10,\"solidity\":0.2},\"type\":\"scatter\"}],\"parcoords\":[{\"type\":\"parcoords\",\"line\":{\"colorbar\":{\"outlinewidth\":0,\"ticks\":\"\"}}}],\"scatterpolargl\":[{\"type\":\"scatterpolargl\",\"marker\":{\"colorbar\":{\"outlinewidth\":0,\"ticks\":\"\"}}}],\"bar\":[{\"error_x\":{\"color\":\"#2a3f5f\"},\"error_y\":{\"color\":\"#2a3f5f\"},\"marker\":{\"line\":{\"color\":\"#E5ECF6\",\"width\":0.5},\"pattern\":{\"fillmode\":\"overlay\",\"size\":10,\"solidity\":0.2}},\"type\":\"bar\"}],\"scattergeo\":[{\"type\":\"scattergeo\",\"marker\":{\"colorbar\":{\"outlinewidth\":0,\"ticks\":\"\"}}}],\"scatterpolar\":[{\"type\":\"scatterpolar\",\"marker\":{\"colorbar\":{\"outlinewidth\":0,\"ticks\":\"\"}}}],\"histogram\":[{\"marker\":{\"pattern\":{\"fillmode\":\"overlay\",\"size\":10,\"solidity\":0.2}},\"type\":\"histogram\"}],\"scattergl\":[{\"type\":\"scattergl\",\"marker\":{\"colorbar\":{\"outlinewidth\":0,\"ticks\":\"\"}}}],\"scatter3d\":[{\"type\":\"scatter3d\",\"line\":{\"colorbar\":{\"outlinewidth\":0,\"ticks\":\"\"}},\"marker\":{\"colorbar\":{\"outlinewidth\":0,\"ticks\":\"\"}}}],\"scattermapbox\":[{\"type\":\"scattermapbox\",\"marker\":{\"colorbar\":{\"outlinewidth\":0,\"ticks\":\"\"}}}],\"scatterternary\":[{\"type\":\"scatterternary\",\"marker\":{\"colorbar\":{\"outlinewidth\":0,\"ticks\":\"\"}}}],\"scattercarpet\":[{\"type\":\"scattercarpet\",\"marker\":{\"colorbar\":{\"outlinewidth\":0,\"ticks\":\"\"}}}],\"carpet\":[{\"aaxis\":{\"endlinecolor\":\"#2a3f5f\",\"gridcolor\":\"white\",\"linecolor\":\"white\",\"minorgridcolor\":\"white\",\"startlinecolor\":\"#2a3f5f\"},\"baxis\":{\"endlinecolor\":\"#2a3f5f\",\"gridcolor\":\"white\",\"linecolor\":\"white\",\"minorgridcolor\":\"white\",\"startlinecolor\":\"#2a3f5f\"},\"type\":\"carpet\"}],\"table\":[{\"cells\":{\"fill\":{\"color\":\"#EBF0F8\"},\"line\":{\"color\":\"white\"}},\"header\":{\"fill\":{\"color\":\"#C8D4E3\"},\"line\":{\"color\":\"white\"}},\"type\":\"table\"}],\"barpolar\":[{\"marker\":{\"line\":{\"color\":\"#E5ECF6\",\"width\":0.5},\"pattern\":{\"fillmode\":\"overlay\",\"size\":10,\"solidity\":0.2}},\"type\":\"barpolar\"}],\"pie\":[{\"automargin\":true,\"type\":\"pie\"}]},\"layout\":{\"autotypenumbers\":\"strict\",\"colorway\":[\"#636efa\",\"#EF553B\",\"#00cc96\",\"#ab63fa\",\"#FFA15A\",\"#19d3f3\",\"#FF6692\",\"#B6E880\",\"#FF97FF\",\"#FECB52\"],\"font\":{\"color\":\"#2a3f5f\"},\"hovermode\":\"closest\",\"hoverlabel\":{\"align\":\"left\"},\"paper_bgcolor\":\"white\",\"plot_bgcolor\":\"#E5ECF6\",\"polar\":{\"bgcolor\":\"#E5ECF6\",\"angularaxis\":{\"gridcolor\":\"white\",\"linecolor\":\"white\",\"ticks\":\"\"},\"radialaxis\":{\"gridcolor\":\"white\",\"linecolor\":\"white\",\"ticks\":\"\"}},\"ternary\":{\"bgcolor\":\"#E5ECF6\",\"aaxis\":{\"gridcolor\":\"white\",\"linecolor\":\"white\",\"ticks\":\"\"},\"baxis\":{\"gridcolor\":\"white\",\"linecolor\":\"white\",\"ticks\":\"\"},\"caxis\":{\"gridcolor\":\"white\",\"linecolor\":\"white\",\"ticks\":\"\"}},\"coloraxis\":{\"colorbar\":{\"outlinewidth\":0,\"ticks\":\"\"}},\"colorscale\":{\"sequential\":[[0.0,\"#0d0887\"],[0.1111111111111111,\"#46039f\"],[0.2222222222222222,\"#7201a8\"],[0.3333333333333333,\"#9c179e\"],[0.4444444444444444,\"#bd3786\"],[0.5555555555555556,\"#d8576b\"],[0.6666666666666666,\"#ed7953\"],[0.7777777777777778,\"#fb9f3a\"],[0.8888888888888888,\"#fdca26\"],[1.0,\"#f0f921\"]],\"sequentialminus\":[[0.0,\"#0d0887\"],[0.1111111111111111,\"#46039f\"],[0.2222222222222222,\"#7201a8\"],[0.3333333333333333,\"#9c179e\"],[0.4444444444444444,\"#bd3786\"],[0.5555555555555556,\"#d8576b\"],[0.6666666666666666,\"#ed7953\"],[0.7777777777777778,\"#fb9f3a\"],[0.8888888888888888,\"#fdca26\"],[1.0,\"#f0f921\"]],\"diverging\":[[0,\"#8e0152\"],[0.1,\"#c51b7d\"],[0.2,\"#de77ae\"],[0.3,\"#f1b6da\"],[0.4,\"#fde0ef\"],[0.5,\"#f7f7f7\"],[0.6,\"#e6f5d0\"],[0.7,\"#b8e186\"],[0.8,\"#7fbc41\"],[0.9,\"#4d9221\"],[1,\"#276419\"]]},\"xaxis\":{\"gridcolor\":\"white\",\"linecolor\":\"white\",\"ticks\":\"\",\"title\":{\"standoff\":15},\"zerolinecolor\":\"white\",\"automargin\":true,\"zerolinewidth\":2},\"yaxis\":{\"gridcolor\":\"white\",\"linecolor\":\"white\",\"ticks\":\"\",\"title\":{\"standoff\":15},\"zerolinecolor\":\"white\",\"automargin\":true,\"zerolinewidth\":2},\"scene\":{\"xaxis\":{\"backgroundcolor\":\"#E5ECF6\",\"gridcolor\":\"white\",\"linecolor\":\"white\",\"showbackground\":true,\"ticks\":\"\",\"zerolinecolor\":\"white\",\"gridwidth\":2},\"yaxis\":{\"backgroundcolor\":\"#E5ECF6\",\"gridcolor\":\"white\",\"linecolor\":\"white\",\"showbackground\":true,\"ticks\":\"\",\"zerolinecolor\":\"white\",\"gridwidth\":2},\"zaxis\":{\"backgroundcolor\":\"#E5ECF6\",\"gridcolor\":\"white\",\"linecolor\":\"white\",\"showbackground\":true,\"ticks\":\"\",\"zerolinecolor\":\"white\",\"gridwidth\":2}},\"shapedefaults\":{\"line\":{\"color\":\"#2a3f5f\"}},\"annotationdefaults\":{\"arrowcolor\":\"#2a3f5f\",\"arrowhead\":0,\"arrowwidth\":1},\"geo\":{\"bgcolor\":\"white\",\"landcolor\":\"#E5ECF6\",\"subunitcolor\":\"white\",\"showland\":true,\"showlakes\":true,\"lakecolor\":\"white\"},\"title\":{\"x\":0.05},\"mapbox\":{\"style\":\"light\"}}},\"xaxis\":{\"anchor\":\"y\",\"domain\":[0.0,1.0],\"title\":{\"text\":\"index\"}},\"yaxis\":{\"anchor\":\"x\",\"domain\":[0.0,1.0],\"title\":{\"text\":\"value\"}},\"legend\":{\"title\":{\"text\":\"variable\"},\"tracegroupgap\":0},\"margin\":{\"t\":60}},                        {\"responsive\": true}                    ).then(function(){\n",
              "                            \n",
              "var gd = document.getElementById('cf83c348-3ac6-4522-b7fe-8d8aee828c63');\n",
              "var x = new MutationObserver(function (mutations, observer) {{\n",
              "        var display = window.getComputedStyle(gd).display;\n",
              "        if (!display || display === 'none') {{\n",
              "            console.log([gd, 'removed!']);\n",
              "            Plotly.purge(gd);\n",
              "            observer.disconnect();\n",
              "        }}\n",
              "}});\n",
              "\n",
              "// Listen for the removal of the full notebook cells\n",
              "var notebookContainer = gd.closest('#notebook-container');\n",
              "if (notebookContainer) {{\n",
              "    x.observe(notebookContainer, {childList: true});\n",
              "}}\n",
              "\n",
              "// Listen for the clearing of the current output cell\n",
              "var outputEl = gd.closest('.output');\n",
              "if (outputEl) {{\n",
              "    x.observe(outputEl, {childList: true});\n",
              "}}\n",
              "\n",
              "                        })                };                            </script>        </div>\n",
              "</body>\n",
              "</html>"
            ]
          },
          "metadata": {},
          "output_type": "display_data"
        }
      ],
      "source": [
        "import plotly_express as px\n",
        "import pandas as pd\n",
        "df = pd.DataFrame({'train': model.train_loss_log, 'test': model.test_loss_log})\n",
        "px.line(df)"
      ]
    }
  ],
  "metadata": {
    "accelerator": "GPU",
    "colab": {
      "gpuType": "T4",
      "provenance": []
    },
    "kernelspec": {
      "display_name": "torch",
      "language": "python",
      "name": "python3"
    },
    "language_info": {
      "codemirror_mode": {
        "name": "ipython",
        "version": 3
      },
      "file_extension": ".py",
      "mimetype": "text/x-python",
      "name": "python",
      "nbconvert_exporter": "python",
      "pygments_lexer": "ipython3",
      "version": "3.12.6"
    }
  },
  "nbformat": 4,
  "nbformat_minor": 0
}
