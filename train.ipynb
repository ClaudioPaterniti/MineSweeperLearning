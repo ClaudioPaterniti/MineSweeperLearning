{
  "cells": [
    {
      "cell_type": "code",
      "execution_count": 1,
      "metadata": {
        "id": "8F9ymaFAVcdD",
        "colab": {
          "base_uri": "https://localhost:8080/"
        },
        "outputId": "c008260f-a851-4f8a-b073-aa156c438881"
      },
      "outputs": [
        {
          "output_type": "stream",
          "name": "stdout",
          "text": [
            "Cloning into 'MinesweeperLearning'...\n",
            "remote: Enumerating objects: 385, done.\u001b[K\n",
            "remote: Counting objects: 100% (385/385), done.\u001b[K\n",
            "remote: Compressing objects: 100% (252/252), done.\u001b[K\n",
            "remote: Total 385 (delta 182), reused 319 (delta 118), pack-reused 0 (from 0)\u001b[K\n",
            "Receiving objects: 100% (385/385), 37.06 MiB | 16.30 MiB/s, done.\n",
            "Resolving deltas: 100% (182/182), done.\n"
          ]
        }
      ],
      "source": [
        "# ! git clone https://github.com/ClaudioPaterniti/MinesweeperLearning.git"
      ]
    },
    {
      "cell_type": "code",
      "execution_count": 3,
      "metadata": {
        "colab": {
          "base_uri": "https://localhost:8080/"
        },
        "id": "FlBcfX6cFiof",
        "outputId": "0c4edc28-3ac8-4667-f206-f989b81e6156"
      },
      "outputs": [
        {
          "output_type": "stream",
          "name": "stdout",
          "text": [
            "Collecting ipython-autotime\n",
            "  Downloading ipython_autotime-0.3.2-py2.py3-none-any.whl.metadata (1.4 kB)\n",
            "Requirement already satisfied: ipython in /usr/local/lib/python3.10/dist-packages (from ipython-autotime) (7.34.0)\n",
            "Requirement already satisfied: setuptools>=18.5 in /usr/local/lib/python3.10/dist-packages (from ipython->ipython-autotime) (75.1.0)\n",
            "Collecting jedi>=0.16 (from ipython->ipython-autotime)\n",
            "  Downloading jedi-0.19.1-py2.py3-none-any.whl.metadata (22 kB)\n",
            "Requirement already satisfied: decorator in /usr/local/lib/python3.10/dist-packages (from ipython->ipython-autotime) (4.4.2)\n",
            "Requirement already satisfied: pickleshare in /usr/local/lib/python3.10/dist-packages (from ipython->ipython-autotime) (0.7.5)\n",
            "Requirement already satisfied: traitlets>=4.2 in /usr/local/lib/python3.10/dist-packages (from ipython->ipython-autotime) (5.7.1)\n",
            "Requirement already satisfied: prompt-toolkit!=3.0.0,!=3.0.1,<3.1.0,>=2.0.0 in /usr/local/lib/python3.10/dist-packages (from ipython->ipython-autotime) (3.0.48)\n",
            "Requirement already satisfied: pygments in /usr/local/lib/python3.10/dist-packages (from ipython->ipython-autotime) (2.18.0)\n",
            "Requirement already satisfied: backcall in /usr/local/lib/python3.10/dist-packages (from ipython->ipython-autotime) (0.2.0)\n",
            "Requirement already satisfied: matplotlib-inline in /usr/local/lib/python3.10/dist-packages (from ipython->ipython-autotime) (0.1.7)\n",
            "Requirement already satisfied: pexpect>4.3 in /usr/local/lib/python3.10/dist-packages (from ipython->ipython-autotime) (4.9.0)\n",
            "Requirement already satisfied: parso<0.9.0,>=0.8.3 in /usr/local/lib/python3.10/dist-packages (from jedi>=0.16->ipython->ipython-autotime) (0.8.4)\n",
            "Requirement already satisfied: ptyprocess>=0.5 in /usr/local/lib/python3.10/dist-packages (from pexpect>4.3->ipython->ipython-autotime) (0.7.0)\n",
            "Requirement already satisfied: wcwidth in /usr/local/lib/python3.10/dist-packages (from prompt-toolkit!=3.0.0,!=3.0.1,<3.1.0,>=2.0.0->ipython->ipython-autotime) (0.2.13)\n",
            "Downloading ipython_autotime-0.3.2-py2.py3-none-any.whl (7.0 kB)\n",
            "Downloading jedi-0.19.1-py2.py3-none-any.whl (1.6 MB)\n",
            "\u001b[2K   \u001b[90m━━━━━━━━━━━━━━━━━━━━━━━━━━━━━━━━━━━━━━━━\u001b[0m \u001b[32m1.6/1.6 MB\u001b[0m \u001b[31m70.2 MB/s\u001b[0m eta \u001b[36m0:00:00\u001b[0m\n",
            "\u001b[?25hInstalling collected packages: jedi, ipython-autotime\n",
            "Successfully installed ipython-autotime-0.3.2 jedi-0.19.1\n",
            "time: 253 µs (started: 2024-11-02 13:53:51 +00:00)\n"
          ]
        }
      ],
      "source": [
        "# !pip install ipython-autotime\n",
        "%load_ext autotime"
      ]
    },
    {
      "cell_type": "code",
      "execution_count": 5,
      "metadata": {
        "colab": {
          "base_uri": "https://localhost:8080/"
        },
        "id": "vq8Ft_P5Vuo2",
        "outputId": "4a4051c0-6976-41d5-bd09-02b1261d6443"
      },
      "outputs": [
        {
          "output_type": "stream",
          "name": "stdout",
          "text": [
            "time: 418 µs (started: 2024-11-02 13:56:08 +00:00)\n"
          ]
        }
      ],
      "source": [
        "import os\n",
        "os.chdir('/content/MinesweeperLearning')"
      ]
    },
    {
      "cell_type": "code",
      "execution_count": 6,
      "metadata": {
        "colab": {
          "base_uri": "https://localhost:8080/"
        },
        "id": "jOpl5fxmVK2g",
        "outputId": "ab32b4e0-b266-4303-c425-80085cee72b1"
      },
      "outputs": [
        {
          "output_type": "stream",
          "name": "stdout",
          "text": [
            "time: 3.14 s (started: 2024-11-02 13:56:10 +00:00)\n"
          ]
        }
      ],
      "source": [
        "import torch\n",
        "import numpy as np\n",
        "\n",
        "import src.utils as utils\n",
        "\n",
        "from torch.utils.data import DataLoader\n",
        "\n",
        "from src.models.patch_mlp import MineSweeperDataset, PatchMLPModel, Game\n",
        "from src.models.unet import UnetModel\n",
        "from src.models.conv import ConvModel\n",
        "from src.player import Player, ThresholdPlayer"
      ]
    },
    {
      "cell_type": "code",
      "execution_count": 7,
      "metadata": {
        "colab": {
          "base_uri": "https://localhost:8080/"
        },
        "id": "6236riM2VK2h",
        "outputId": "96109cac-8e37-402c-a584-14d2a930284b"
      },
      "outputs": [
        {
          "output_type": "stream",
          "name": "stdout",
          "text": [
            "cuda\n",
            "time: 50.2 ms (started: 2024-11-02 13:56:13 +00:00)\n"
          ]
        }
      ],
      "source": [
        "device = (\n",
        "    \"cuda\"\n",
        "    if torch.cuda.is_available()\n",
        "    else \"mps\"\n",
        "    if torch.backends.mps.is_available()\n",
        "    else \"cpu\"\n",
        ")\n",
        "print(device)\n",
        "rng = np.random.default_rng()"
      ]
    },
    {
      "cell_type": "code",
      "execution_count": 8,
      "metadata": {
        "colab": {
          "base_uri": "https://localhost:8080/"
        },
        "id": "DvEBDZHyqJwj",
        "outputId": "fff28201-8f4e-41d4-c3d8-486c44732741"
      },
      "outputs": [
        {
          "output_type": "stream",
          "name": "stdout",
          "text": [
            "time: 80.4 ms (started: 2024-11-02 13:56:23 +00:00)\n"
          ]
        }
      ],
      "source": [
        "data = utils.sample(np.load('data/dataset.npy'), 200_000)"
      ]
    },
    {
      "cell_type": "code",
      "execution_count": 24,
      "metadata": {
        "colab": {
          "base_uri": "https://localhost:8080/"
        },
        "id": "zwUN9xyoJt0i",
        "outputId": "32d15541-582c-415c-e506-c83e08de940e"
      },
      "outputs": [
        {
          "output_type": "stream",
          "name": "stdout",
          "text": [
            "time: 406 µs (started: 2024-11-02 14:09:00 +00:00)\n"
          ]
        }
      ],
      "source": [
        "model_type = 'conv'"
      ]
    },
    {
      "cell_type": "code",
      "execution_count": null,
      "metadata": {
        "id": "gojmCqYfmDh8"
      },
      "outputs": [],
      "source": [
        "if model_type == 'patch_mlp':\n",
        "    patch_radius = 3\n",
        "    d = 2*patch_radius+1\n",
        "    layers= [2**i for i in range(10, 0, -1)]\n",
        "    name = f'patch_mlp_{d}x{d}_{layers[0]}'\n",
        "    print(name)\n",
        "\n",
        "    model = PatchMLPModel(\n",
        "        patch_radius,\n",
        "        layers,\n",
        "        device=device)\n",
        "    transform = model.transform\n",
        "    weights = None\n",
        "    dataset = MineSweeperDataset(data, transform, weights)"
      ]
    },
    {
      "cell_type": "code",
      "execution_count": 25,
      "metadata": {
        "colab": {
          "base_uri": "https://localhost:8080/"
        },
        "id": "3jSTrsDpJt0j",
        "outputId": "c8bef723-92ac-4ea4-a258-658b8b0c5e5f"
      },
      "outputs": [
        {
          "output_type": "stream",
          "name": "stdout",
          "text": [
            "conv_16x30_256\n",
            "time: 631 ms (started: 2024-11-02 14:09:04 +00:00)\n"
          ]
        }
      ],
      "source": [
        "if model_type == 'conv':\n",
        "    r, c = (16, 30)\n",
        "    kernel_radius = 1\n",
        "    layers= [2**i for i in range(8, 0, -1)]\n",
        "    name = f'conv_{r}x{c}_{layers[0]}'\n",
        "    print(name)\n",
        "\n",
        "    model = ConvModel(\n",
        "        kernel_radius,\n",
        "        layers,\n",
        "        device=device)\n",
        "    transform = model.transform\n",
        "    weights = ((data == 9) | (data == -1)).view(np.int8)\n",
        "    dataset = MineSweeperDataset(data, transform, weights)"
      ]
    },
    {
      "cell_type": "code",
      "execution_count": 20,
      "metadata": {
        "colab": {
          "base_uri": "https://localhost:8080/"
        },
        "id": "Wnz0aDzQJt0j",
        "outputId": "5871ff7f-d5f0-42d9-f8ff-1863bd50d347"
      },
      "outputs": [
        {
          "output_type": "stream",
          "name": "stdout",
          "text": [
            "unet_16x30_128\n",
            "time: 850 ms (started: 2024-11-02 14:07:01 +00:00)\n"
          ]
        }
      ],
      "source": [
        "if model_type == 'unet':\n",
        "    r, c, m = (16, 30, 99)\n",
        "    decoder_shapes = [(128, 16, 30), (256, 8, 15), (512, 4, 7), (1024, 2, 3)]\n",
        "    name = f'unet_{r}x{c}_{decoder_shapes[0][0]}'\n",
        "    print(name)\n",
        "\n",
        "    model = UnetModel(\n",
        "        map_size=(r, c),\n",
        "        decoder_shapes=decoder_shapes,\n",
        "        device=device)\n",
        "    transform = model.transform\n",
        "    weights = ((data == 9) | (data == -1)).view(np.int8)\n",
        "    dataset = MineSweeperDataset(data, transform, weights)"
      ]
    },
    {
      "cell_type": "code",
      "execution_count": 26,
      "metadata": {
        "colab": {
          "base_uri": "https://localhost:8080/"
        },
        "id": "ZzFDddBwVK2i",
        "outputId": "8faae9a9-6048-4006-b1b3-6d04663ced6a"
      },
      "outputs": [
        {
          "output_type": "stream",
          "name": "stdout",
          "text": [
            "time: 16 ms (started: 2024-11-02 14:09:07 +00:00)\n"
          ]
        }
      ],
      "source": [
        "batch_size = 128\n",
        "training_data, test_data = torch.utils.data.random_split(dataset, (0.95, 0.05))\n",
        "train_dataloader = DataLoader(training_data, batch_size, num_workers=4, pin_memory=True)\n",
        "test_dataloader = DataLoader(training_data, batch_size, num_workers=4, pin_memory=True)\n",
        "player = ThresholdPlayer(model, 0.01, 0.95)\n",
        "optimizer = torch.optim.Adam(model.model.parameters(), lr=0.001)"
      ]
    },
    {
      "cell_type": "code",
      "execution_count": 12,
      "metadata": {
        "colab": {
          "base_uri": "https://localhost:8080/"
        },
        "id": "Z9fyS9I01IfO",
        "outputId": "58c439f8-f7d6-44d7-fe13-32d3dc7509b6"
      },
      "outputs": [
        {
          "output_type": "stream",
          "name": "stdout",
          "text": [
            "time: 19.7 ms (started: 2024-11-02 13:56:48 +00:00)\n"
          ]
        }
      ],
      "source": [
        "test_games = Game(n = 500)\n",
        "zeros = test_games.open_zero()"
      ]
    },
    {
      "cell_type": "code",
      "execution_count": 27,
      "metadata": {
        "colab": {
          "base_uri": "https://localhost:8080/"
        },
        "id": "p7AD38_XA0U5",
        "outputId": "eb1213e2-06f7-48b4-e4b2-30c8fb77381f"
      },
      "outputs": [
        {
          "output_type": "stream",
          "name": "stdout",
          "text": [
            "time: 424 µs (started: 2024-11-02 14:09:10 +00:00)\n"
          ]
        }
      ],
      "source": [
        "train_loss = []\n",
        "test_loss = []\n",
        "win_rate = []"
      ]
    },
    {
      "cell_type": "code",
      "execution_count": 28,
      "metadata": {
        "colab": {
          "base_uri": "https://localhost:8080/"
        },
        "id": "EJX3QPFpVK2j",
        "outputId": "7451c092-f0af-454a-ab00-42706ef2363f"
      },
      "outputs": [
        {
          "output_type": "stream",
          "name": "stdout",
          "text": [
            "Epoch 1\n",
            "-------------------------------\n",
            "0.35\n",
            "Epoch 2\n",
            "-------------------------------\n",
            "0.388\n",
            "Epoch 3\n",
            "-------------------------------\n",
            "0.42\n",
            "Epoch 4\n",
            "-------------------------------\n",
            "0.44\n",
            "Epoch 5\n",
            "-------------------------------\n",
            "0.43\n",
            "Epoch 6\n",
            "-------------------------------\n",
            "0.396\n",
            "Epoch 7\n",
            "-------------------------------\n",
            "0.37\n",
            "Epoch 8\n",
            "-------------------------------\n",
            "0.298\n",
            "Epoch 9\n",
            "-------------------------------\n",
            "0.342\n",
            "Epoch 10\n",
            "-------------------------------\n",
            "0.292\n",
            "time: 13min 6s (started: 2024-11-02 14:09:12 +00:00)\n"
          ]
        }
      ],
      "source": [
        "epochs = 10\n",
        "stop_if_no_max_after = -1\n",
        "max_win_rate, argmax_t = 0, 0\n",
        "for t in range(epochs):\n",
        "    print(f\"Epoch {t+1}\\n-------------------------------\")\n",
        "    train_loss.append(model.train(train_dataloader, optimizer))\n",
        "    player.play(test_games)\n",
        "    win_rate.append(test_games.win_rate())\n",
        "    print(win_rate[-1])\n",
        "    test_games.reset()\n",
        "    test_games.move(zeros)\n",
        "    test_loss.append(model.test(test_dataloader))\n",
        "    if win_rate[-1] > max_win_rate:\n",
        "      model.save(os.path.join('weights', name + '_max.pth'))\n",
        "      max_win_rate = win_rate[-1]\n",
        "    if win_rate[-1] > max_win_rate - 0.01:\n",
        "      argmax_t = t\n",
        "    elif stop_if_no_max_after > 0 and t - argmax_t >= stop_if_no_max_after:\n",
        "        break"
      ]
    },
    {
      "cell_type": "code",
      "execution_count": 29,
      "metadata": {
        "colab": {
          "base_uri": "https://localhost:8080/",
          "height": 537
        },
        "id": "sEDg-Qj14Snk",
        "outputId": "aa373348-bbfc-4b9f-e1f5-6161c71427e4"
      },
      "outputs": [
        {
          "output_type": "display_data",
          "data": {
            "text/plain": [
              "<Figure size 640x480 with 2 Axes>"
            ],
            "image/png": "[encoded data removed]"
          },
          "metadata": {}
        },
        {
          "output_type": "stream",
          "name": "stdout",
          "text": [
            "time: 346 ms (started: 2024-11-02 14:22:24 +00:00)\n"
          ]
        }
      ],
      "source": [
        "import matplotlib.pyplot as plt\n",
        "\n",
        "fig, ax1 = plt.subplots()\n",
        "ax1.set_xlabel('epoch')\n",
        "\n",
        "ax1.plot(train_loss, color='tab:red', label = 'train')\n",
        "ax1.plot(test_loss, color='tab:orange', label = 'test')\n",
        "\n",
        "ax2 = ax1.twinx()  # instantiate a second Axes that shares the same x-axis\n",
        "\n",
        "color = 'tab:blue'\n",
        "ax2.plot(win_rate, color=color, label = 'win rate')\n",
        "\n",
        "fig.legend(loc=\"upper right\")\n",
        "plt.show()"
      ]
    },
    {
      "cell_type": "code",
      "execution_count": 31,
      "metadata": {
        "colab": {
          "base_uri": "https://localhost:8080/",
          "height": 318
        },
        "id": "AYlTMDEumDh9",
        "outputId": "3540a433-3c14-4fa4-ec17-1d73606b9bba"
      },
      "outputs": [
        {
          "output_type": "error",
          "ename": "AttributeError",
          "evalue": "'ConvModel' object has no attribute 'map_size'",
          "traceback": [
            "\u001b[0;31m---------------------------------------------------------------------------\u001b[0m",
            "\u001b[0;31mAttributeError\u001b[0m                            Traceback (most recent call last)",
            "\u001b[0;32m<ipython-input-31-0c32a69b90ba>\u001b[0m in \u001b[0;36m<cell line: 1>\u001b[0;34m()\u001b[0m\n\u001b[0;32m----> 1\u001b[0;31m \u001b[0mmodel\u001b[0m\u001b[0;34m.\u001b[0m\u001b[0msave\u001b[0m\u001b[0;34m(\u001b[0m\u001b[0mos\u001b[0m\u001b[0;34m.\u001b[0m\u001b[0mpath\u001b[0m\u001b[0;34m.\u001b[0m\u001b[0mjoin\u001b[0m\u001b[0;34m(\u001b[0m\u001b[0;34m'weights'\u001b[0m\u001b[0;34m,\u001b[0m \u001b[0mname\u001b[0m \u001b[0;34m+\u001b[0m \u001b[0;34m'.pth'\u001b[0m\u001b[0;34m)\u001b[0m\u001b[0;34m)\u001b[0m\u001b[0;34m\u001b[0m\u001b[0;34m\u001b[0m\u001b[0m\n\u001b[0m\u001b[1;32m      2\u001b[0m \u001b[0mtorch\u001b[0m\u001b[0;34m.\u001b[0m\u001b[0msave\u001b[0m\u001b[0;34m(\u001b[0m\u001b[0moptimizer\u001b[0m\u001b[0;34m.\u001b[0m\u001b[0mstate_dict\u001b[0m\u001b[0;34m(\u001b[0m\u001b[0;34m)\u001b[0m\u001b[0;34m,\u001b[0m \u001b[0mos\u001b[0m\u001b[0;34m.\u001b[0m\u001b[0mpath\u001b[0m\u001b[0;34m.\u001b[0m\u001b[0mjoin\u001b[0m\u001b[0;34m(\u001b[0m\u001b[0;34m'weights'\u001b[0m\u001b[0;34m,\u001b[0m \u001b[0mname\u001b[0m \u001b[0;34m+\u001b[0m \u001b[0;34m'.opt'\u001b[0m\u001b[0;34m)\u001b[0m\u001b[0;34m)\u001b[0m\u001b[0;34m\u001b[0m\u001b[0;34m\u001b[0m\u001b[0m\n",
            "\u001b[0;32m/content/MinesweeperLearning/src/models/conv.py\u001b[0m in \u001b[0;36msave\u001b[0;34m(self, path)\u001b[0m\n\u001b[1;32m     45\u001b[0m         \u001b[0mfilename\u001b[0m\u001b[0;34m,\u001b[0m \u001b[0m_\u001b[0m \u001b[0;34m=\u001b[0m \u001b[0mos\u001b[0m\u001b[0;34m.\u001b[0m\u001b[0mpath\u001b[0m\u001b[0;34m.\u001b[0m\u001b[0msplitext\u001b[0m\u001b[0;34m(\u001b[0m\u001b[0mpath\u001b[0m\u001b[0;34m)\u001b[0m\u001b[0;34m\u001b[0m\u001b[0;34m\u001b[0m\u001b[0m\n\u001b[1;32m     46\u001b[0m         meta = {\n\u001b[0;32m---> 47\u001b[0;31m             \u001b[0;34m'mapSize'\u001b[0m\u001b[0;34m:\u001b[0m \u001b[0mself\u001b[0m\u001b[0;34m.\u001b[0m\u001b[0mmap_size\u001b[0m\u001b[0;34m,\u001b[0m\u001b[0;34m\u001b[0m\u001b[0;34m\u001b[0m\u001b[0m\n\u001b[0m\u001b[1;32m     48\u001b[0m             \u001b[0;34m'decoderShapes'\u001b[0m\u001b[0;34m:\u001b[0m \u001b[0mself\u001b[0m\u001b[0;34m.\u001b[0m\u001b[0mdecoder_shapes\u001b[0m\u001b[0;34m,\u001b[0m\u001b[0;34m\u001b[0m\u001b[0;34m\u001b[0m\u001b[0m\n\u001b[1;32m     49\u001b[0m             \u001b[0;34m'useConv'\u001b[0m\u001b[0;34m:\u001b[0m \u001b[0mself\u001b[0m\u001b[0;34m.\u001b[0m\u001b[0muse_conv\u001b[0m\u001b[0;34m,\u001b[0m\u001b[0;34m\u001b[0m\u001b[0;34m\u001b[0m\u001b[0m\n",
            "\u001b[0;31mAttributeError\u001b[0m: 'ConvModel' object has no attribute 'map_size'"
          ]
        },
        {
          "output_type": "stream",
          "name": "stdout",
          "text": [
            "time: 51.9 ms (started: 2024-11-02 14:23:52 +00:00)\n"
          ]
        }
      ],
      "source": [
        "model.save(os.path.join('weights', name + '.pth'))\n",
        "torch.save(optimizer.state_dict(), os.path.join('weights', name + '.opt'))"
      ]
    },
    {
      "cell_type": "code",
      "execution_count": 32,
      "metadata": {
        "colab": {
          "base_uri": "https://localhost:8080/"
        },
        "id": "_TANlIubQaAj",
        "outputId": "ace3e246-0682-4e14-c8a5-661def3b4c29"
      },
      "outputs": [
        {
          "output_type": "stream",
          "name": "stdout",
          "text": [
            "time: 77.5 ms (started: 2024-11-02 14:24:05 +00:00)\n"
          ]
        }
      ],
      "source": [
        "model_reference = PatchMLPModel.load('weights/patch_mlp_7x7_1024.pth', device)\n",
        "player_reference = ThresholdPlayer(model_reference, 0.01, 0.99)\n",
        "test_player = ThresholdPlayer(model, 0.01, 0.99)"
      ]
    },
    {
      "cell_type": "code",
      "execution_count": 33,
      "metadata": {
        "colab": {
          "base_uri": "https://localhost:8080/"
        },
        "id": "8RlP928MQgzn",
        "outputId": "4aee21e5-436e-4024-fc80-9cd4e84a84f4"
      },
      "outputs": [
        {
          "output_type": "stream",
          "name": "stdout",
          "text": [
            "player_reference: average score: 0.8406666666666668\n",
            "\twin rate: 0.31\n",
            "time: 17.3 s (started: 2024-11-02 14:24:08 +00:00)\n"
          ]
        }
      ],
      "source": [
        "games = Game(16, 30, 99, 1000)\n",
        "z = games.open_zero()\n",
        "player_reference.play(games)\n",
        "print(f'player_reference: average score: {np.average(games.scores(final_only=True))}')\n",
        "print(f'\\twin rate: {games.win_rate()}')\n",
        "reference_won = games.won.copy()"
      ]
    },
    {
      "cell_type": "code",
      "execution_count": 34,
      "metadata": {
        "colab": {
          "base_uri": "https://localhost:8080/"
        },
        "id": "E96uv2lrQ2V5",
        "outputId": "c7da6d35-d188-47e3-bd79-28bafc2dea04"
      },
      "outputs": [
        {
          "output_type": "stream",
          "name": "stdout",
          "text": [
            "test_player: average score: 0.8073044619422571\n",
            "\twin rate: 0.349\n",
            "time: 4.34 s (started: 2024-11-02 14:24:25 +00:00)\n"
          ]
        }
      ],
      "source": [
        "games.reset()\n",
        "games.move(z)\n",
        "test_player.play(games)\n",
        "print(f'test_player: average score: {np.average(games.scores(final_only=True))}')\n",
        "print(f'\\twin rate: {games.win_rate()}')"
      ]
    },
    {
      "cell_type": "code",
      "execution_count": null,
      "metadata": {
        "colab": {
          "base_uri": "https://localhost:8080/"
        },
        "id": "FYRT1Ko0H2UC",
        "outputId": "75e3623e-6036-4494-c2f0-3540010ec3c7"
      },
      "outputs": [
        {
          "name": "stdout",
          "output_type": "stream",
          "text": [
            "Epoch 1\n",
            "-------------------------------\n",
            "0.306\n",
            "time: 3min 35s (started: 2024-10-27 20:35:13 +00:00)\n"
          ]
        }
      ],
      "source": [
        "reinforce_iterations = 1\n",
        "epochs = 1\n",
        "base_size, reinforce_size = 10_000, 10_000\n",
        "losing_move_weight = 2\n",
        "for i in range(reinforce_iterations):\n",
        "  base = utils.sample(dataset, base_size)\n",
        "  games = Game(16, 30, rng.normal(99, 30, reinforce_size).astype(int).clip(40, 160), reinforce_size*3)\n",
        "  games.open_zero()\n",
        "  player.play(games)\n",
        "  lost = games.as_dataset()[np.logical_not(games.won)]\n",
        "  data = np.concatenate([base, lost])\n",
        "  base_weights = ((base == 9) | (base == -1)).view(np.int8)\n",
        "  losing_weights = ((lost == 9) | (lost == -1)).view(np.int8)*(np.abs(games.losing_moves()[np.logical_not(games.won)])*losing_move_weight)\n",
        "  weights = np.concatenate([np.ones_like(base), np.abs(games.losing_moves())*losing_move_weight])\n",
        "  train_data = MineSweeperDataset(data, transform, weights)\n",
        "  train_dataloader = DataLoader(train_data, batch_size, num_workers=4, pin_memory=True, shuffle=True)\n",
        "  for t in range(epochs):\n",
        "      print(f\"Epoch {t+1}\\n-------------------------------\")\n",
        "      train_loss.append(model.train(train_dataloader, optimizer))\n",
        "      player.play(test_games)\n",
        "      win_rate.append(test_games.win_rate())\n",
        "      print(win_rate[-1])\n",
        "      test_games.reset()\n",
        "      test_games.move(zeros)\n",
        "      test_loss.append(model.test(test_dataloader))"
      ]
    },
    {
      "cell_type": "code",
      "execution_count": null,
      "metadata": {
        "colab": {
          "base_uri": "https://localhost:8080/",
          "height": 537
        },
        "id": "yIiWKuj-MSzk",
        "outputId": "b3ff40c9-f7a6-41b5-c082-0eef2086525d"
      },
      "outputs": [
        {
          "data": {
            "image/png": "[encoded data removed]",
            "text/plain": [
              "<Figure size 640x480 with 2 Axes>"
            ]
          },
          "metadata": {},
          "output_type": "display_data"
        },
        {
          "name": "stdout",
          "output_type": "stream",
          "text": [
            "time: 289 ms (started: 2024-10-27 20:38:49 +00:00)\n"
          ]
        }
      ],
      "source": [
        "fig, ax1 = plt.subplots()\n",
        "ax1.set_xlabel('epoch')\n",
        "\n",
        "ax1.plot(train_loss, color='tab:red', label = 'train')\n",
        "ax1.plot(test_loss, color='tab:orange', label = 'test')\n",
        "\n",
        "ax2 = ax1.twinx()  # instantiate a second Axes that shares the same x-axis\n",
        "\n",
        "color = 'tab:blue'\n",
        "ax2.plot(win_rate, color=color, label = 'win rate')\n",
        "\n",
        "fig.legend(loc=\"upper right\")\n",
        "plt.show()"
      ]
    },
    {
      "cell_type": "code",
      "execution_count": null,
      "metadata": {
        "colab": {
          "base_uri": "https://localhost:8080/"
        },
        "id": "iHqvA67YMWqM",
        "outputId": "93b181eb-cb98-4e98-8e58-84ed8bf875f0"
      },
      "outputs": [
        {
          "name": "stdout",
          "output_type": "stream",
          "text": [
            "time: 103 ms (started: 2024-10-27 20:34:30 +00:00)\n"
          ]
        }
      ],
      "source": [
        "model.save(os.path.join('weights', name + '_reinforced.pth'))\n",
        "torch.save(optimizer.state_dict(), os.path.join('weights', name + '_reinforced.opt'))"
      ]
    },
    {
      "cell_type": "code",
      "execution_count": null,
      "metadata": {
        "colab": {
          "base_uri": "https://localhost:8080/"
        },
        "id": "cNUbCOpCleSS",
        "outputId": "d28e837c-26da-410e-b55b-420c315c1e8c"
      },
      "outputs": [
        {
          "name": "stdout",
          "output_type": "stream",
          "text": [
            "player_reference: average score: 0.7900918635170605\n",
            "\twin rate: 0.282\n",
            "time: 8.58 s (started: 2024-10-27 20:39:51 +00:00)\n"
          ]
        }
      ],
      "source": [
        "games = Game(16, 30, 99, 1000)\n",
        "z = games.open_zero()\n",
        "player_reference.play(games)\n",
        "print(f'player_reference: average score: {np.average(games.scores(final_only=True))}')\n",
        "print(f'\\twin rate: {games.win_rate()}')\n",
        "reference_won = games.won.copy()"
      ]
    },
    {
      "cell_type": "code",
      "execution_count": null,
      "metadata": {
        "colab": {
          "base_uri": "https://localhost:8080/"
        },
        "id": "QdGHFc9LQmpY",
        "outputId": "68466572-0815-4819-8e34-78395eef5610"
      },
      "outputs": [
        {
          "name": "stdout",
          "output_type": "stream",
          "text": [
            "test_player: average score: 0.8288136482939633\n",
            "\twin rate: 0.267\n",
            "time: 16.6 s (started: 2024-10-27 20:39:59 +00:00)\n"
          ]
        }
      ],
      "source": [
        "games.reset()\n",
        "games.move(z)\n",
        "test_player.play(games)\n",
        "print(f'test_player: average score: {np.average(games.scores(final_only=True))}')\n",
        "print(f'\\twin rate: {games.win_rate()}')"
      ]
    }
  ],
  "metadata": {
    "accelerator": "GPU",
    "colab": {
      "gpuType": "L4",
      "provenance": []
    },
    "kernelspec": {
      "display_name": "torch",
      "language": "python",
      "name": "python3"
    },
    "language_info": {
      "codemirror_mode": {
        "name": "ipython",
        "version": 3
      },
      "file_extension": ".py",
      "mimetype": "text/x-python",
      "name": "python",
      "nbconvert_exporter": "python",
      "pygments_lexer": "ipython3",
      "version": "3.12.6"
    }
  },
  "nbformat": 4,
  "nbformat_minor": 0
}