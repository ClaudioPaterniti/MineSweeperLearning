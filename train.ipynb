{
 "cells": [
  {
   "cell_type": "code",
   "execution_count": 1,
   "metadata": {},
   "outputs": [],
   "source": [
    "import torch\n",
    "import numpy as np\n",
    "from torch.utils.data import DataLoader\n",
    "from src.model import MineSweeperDataset, PatchMLPModel, OnHotEncodingTransform, Game\n",
    "from src.player import ThresholdPlayer"
   ]
  },
  {
   "cell_type": "code",
   "execution_count": 2,
   "metadata": {},
   "outputs": [],
   "source": [
    "device = (\n",
    "    \"cuda\"\n",
    "    if torch.cuda.is_available()\n",
    "    else \"mps\"\n",
    "    if torch.backends.mps.is_available()\n",
    "    else \"cpu\"\n",
    ")"
   ]
  },
  {
   "cell_type": "code",
   "execution_count": 3,
   "metadata": {},
   "outputs": [],
   "source": [
    "train = Game(16, 30, 99, n = 5000)\n",
    "train.random_open(0.5)\n",
    "train.random_flags(0.3)\n",
    "test = Game(n = 100)\n",
    "test.random_open(0.5)\n",
    "test.random_flags(0.3)\n",
    "transform = OnHotEncodingTransform(2)\n",
    "training_data = MineSweeperDataset(train, transform)\n",
    "test_data = MineSweeperDataset(test, transform)\n",
    "train_dataloader = DataLoader(training_data, batch_size=64)\n",
    "test_dataloader = DataLoader(test_data, batch_size=64)\n",
    "model = PatchMLPModel(2, device)\n",
    "player = ThresholdPlayer(model)\n",
    "optimizer = torch.optim.Adam(model.model.parameters(), lr=0.0001)"
   ]
  },
  {
   "cell_type": "code",
   "execution_count": null,
   "metadata": {},
   "outputs": [],
   "source": [
    "epochs = 5\n",
    "for t in range(epochs):\n",
    "    print(f\"Epoch {t+1}\\n-------------------------------\")\n",
    "    model.train(train_dataloader, optimizer)\n",
    "    model.test(test_dataloader)"
   ]
  },
  {
   "cell_type": "code",
   "execution_count": null,
   "metadata": {},
   "outputs": [],
   "source": [
    "reinforcing_iterations = 10\n",
    "epochs = 1\n",
    "for i in range(reinforcing_iterations):\n",
    "    model.save(f'weights/patch_mlp_4x4_200x4_{i}.pth')\n",
    "    games = Game(16, 30, 99, n = 500)\n",
    "    games.random_open(0.5)\n",
    "    games.random_flags(0.3)\n",
    "    training_data.mix(games)\n",
    "    train_dataloader = DataLoader(training_data, batch_size=64)\n",
    "    for t in range(epochs):\n",
    "        print(f\"Epoch {t+1}\\n-------------------------------\")\n",
    "        model.train(train_dataloader, optimizer)\n",
    "        model.test(test_dataloader)"
   ]
  },
  {
   "cell_type": "code",
   "execution_count": 6,
   "metadata": {},
   "outputs": [],
   "source": [
    "model.save('weights/patch_mlp_4x4_200x4.pth')"
   ]
  },
  {
   "cell_type": "code",
   "execution_count": null,
   "metadata": {},
   "outputs": [],
   "source": [
    "import plotly_express as px\n",
    "import pandas as pd\n",
    "df = pd.DataFrame({'train': model.train_loss_log, 'test': model.test_loss_log})\n",
    "px.line(df)"
   ]
  }
 ],
 "metadata": {
  "kernelspec": {
   "display_name": "pytorch",
   "language": "python",
   "name": "python3"
  },
  "language_info": {
   "codemirror_mode": {
    "name": "ipython",
    "version": 3
   },
   "file_extension": ".py",
   "mimetype": "text/x-python",
   "name": "python",
   "nbconvert_exporter": "python",
   "pygments_lexer": "ipython3",
   "version": "3.12.6"
  }
 },
 "nbformat": 4,
 "nbformat_minor": 2
}
